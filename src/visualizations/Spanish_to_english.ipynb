{
  "nbformat": 4,
  "nbformat_minor": 0,
  "metadata": {
    "colab": {
      "provenance": []
    },
    "kernelspec": {
      "name": "python3",
      "display_name": "Python 3"
    },
    "language_info": {
      "name": "python"
    }
  },
  "cells": [
    {
      "cell_type": "markdown",
      "source": [
        "\n",
        "# High Quality spanish to english translation using transformers.\n"
      ],
      "metadata": {
        "id": "P5mwfLIG94tW"
      }
    },
    {
      "cell_type": "code",
      "source": [
        "# !pip install transformers"
      ],
      "metadata": {
        "id": "Xsi1_ZZr9l1u"
      },
      "execution_count": null,
      "outputs": []
    },
    {
      "cell_type": "code",
      "execution_count": null,
      "metadata": {
        "id": "l474EvPS9K7q"
      },
      "outputs": [],
      "source": [
        "from transformers import MarianMTModel, MarianTokenizer"
      ]
    },
    {
      "cell_type": "code",
      "source": [
        "# Load the translation model and tokenizer\n",
        "model_name = \"Helsinki-NLP/opus-mt-en-es\"\n",
        "model = MarianMTModel.from_pretrained(model_name)\n",
        "tokenizer = MarianTokenizer.from_pretrained(model_name)"
      ],
      "metadata": {
        "id": "seB13BW-9eZs"
      },
      "execution_count": null,
      "outputs": []
    },
    {
      "cell_type": "code",
      "source": [
        "'''\n",
        "-- TO DO\n",
        "1. read the data frame here.\n",
        "\n",
        "2. identify the columsn which you would like to translate\n",
        "\n",
        "3.\n",
        "\n",
        "'''"
      ],
      "metadata": {
        "id": "iuVWVU8W9RrV"
      },
      "execution_count": null,
      "outputs": []
    },
    {
      "cell_type": "code",
      "source": [
        "### Use the input text below to translate\n",
        "\n",
        "### you can use a vector or whole."
      ],
      "metadata": {
        "id": "Xeo1m9Kw9M06"
      },
      "execution_count": null,
      "outputs": []
    },
    {
      "cell_type": "code",
      "source": [
        "# Input text in Spanish\n",
        "input_text = \"Hola, ¿cómo estás?\""
      ],
      "metadata": {
        "id": "rWvAvcxp9Mys"
      },
      "execution_count": null,
      "outputs": []
    },
    {
      "cell_type": "code",
      "source": [
        "# Tokenize and translate the input text\n",
        "input_ids = tokenizer.encode(input_text, return_tensors=\"pt\", padding=True, truncation=True)\n",
        "translated_ids = model.generate(input_ids, max_length=128, num_beams=4, early_stopping=True)"
      ],
      "metadata": {
        "id": "l1MD4Z2q9Mwf"
      },
      "execution_count": null,
      "outputs": []
    },
    {
      "cell_type": "code",
      "source": [
        "# Decode and print the translated text in English\n",
        "translated_text = tokenizer.decode(translated_ids[0], skip_special_tokens=True)\n",
        "print(translated_text)"
      ],
      "metadata": {
        "id": "FHE3IH1S9MuJ"
      },
      "execution_count": null,
      "outputs": []
    }
  ]
}