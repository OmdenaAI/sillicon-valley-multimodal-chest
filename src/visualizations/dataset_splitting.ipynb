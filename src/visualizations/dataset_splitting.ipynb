{
 "cells": [
  {
   "cell_type": "markdown",
   "id": "5aff292f",
   "metadata": {},
   "source": [
    "### Import libraries"
   ]
  },
  {
   "cell_type": "code",
   "execution_count": null,
   "id": "ab1a0410",
   "metadata": {},
   "outputs": [],
   "source": [
    "import os\n",
    "import shutil\n",
    "import pandas as pd\n",
    "from sklearn.model_selection import train_test_split"
   ]
  },
  {
   "cell_type": "markdown",
   "id": "8c5b2e1b",
   "metadata": {},
   "source": [
    "### Import data"
   ]
  },
  {
   "cell_type": "code",
   "execution_count": null,
   "id": "8d643010",
   "metadata": {},
   "outputs": [],
   "source": [
    "df = pd.read_csv('padchest_pneumonia_normal_en.csv')\n",
    "df.head()"
   ]
  },
  {
   "cell_type": "code",
   "execution_count": 19,
   "id": "8bde959e",
   "metadata": {},
   "outputs": [
    {
     "name": "stdout",
     "output_type": "stream",
     "text": [
      "<class 'pandas.core.frame.DataFrame'>\n",
      "RangeIndex: 7975 entries, 0 to 7974\n",
      "Data columns (total 17 columns):\n",
      " #   Column                         Non-Null Count  Dtype  \n",
      "---  ------                         --------------  -----  \n",
      " 0   ImageID                        7975 non-null   object \n",
      " 1   StudyDate_DICOM                7975 non-null   int64  \n",
      " 2   StudyID                        7975 non-null   object \n",
      " 3   PatientID                      7975 non-null   object \n",
      " 4   PatientBirth                   7975 non-null   float64\n",
      " 5   PatientSex_DICOM               7975 non-null   object \n",
      " 6   ViewPosition_DICOM             7975 non-null   object \n",
      " 7   ReportID                       7975 non-null   int64  \n",
      " 8   Pediatric                      7975 non-null   object \n",
      " 9   Report                         7972 non-null   object \n",
      " 10  MethodLabel                    7975 non-null   object \n",
      " 11  Labels                         7975 non-null   object \n",
      " 12  Localizations                  7975 non-null   object \n",
      " 13  LabelsLocalizationsBySentence  7975 non-null   object \n",
      " 14  PatientAge                     7975 non-null   float64\n",
      " 15  Report_en_ChatGPT              7975 non-null   object \n",
      " 16  Report_en_GoogleTr             7972 non-null   object \n",
      "dtypes: float64(2), int64(2), object(13)\n",
      "memory usage: 1.0+ MB\n"
     ]
    }
   ],
   "source": [
    "df.info()"
   ]
  },
  {
   "cell_type": "code",
   "execution_count": null,
   "id": "ef1a2962",
   "metadata": {},
   "outputs": [],
   "source": [
    "# extract images downloaded from kaggle\n",
    "\n",
    "# importing the zipfile module \n",
    "#from zipfile import ZipFile\n",
    "  \n",
    "# loading the temp.zip and creating a zip object\n",
    "#with ZipFile(\"C:\\\\Users\\\\Kseniya\\\\Omdena\\\\MMML\\\\padchest\\\\archive.zip\", 'r') as zObject:\n",
    "  \n",
    "    # Extracting all the members of the zip \n",
    "    # into a specific location.\n",
    "    #zObject.extractall(\n",
    "        #path=\"C:\\\\Users\\\\Kseniya\\\\Omdena\\\\MMML\\\\padchest\\\\images\")"
   ]
  },
  {
   "cell_type": "markdown",
   "id": "62281498",
   "metadata": {},
   "source": [
    "### Splitting the dataset to training and validation parts, and test part"
   ]
  },
  {
   "cell_type": "code",
   "execution_count": null,
   "id": "79550fdb",
   "metadata": {},
   "outputs": [],
   "source": [
    "# splite the dataset into the training, validation and test sets\n",
    "\n",
    "train_val_set, test_set = train_test_split(df, test_size = 0.15, random_state = 0)\n",
    "train_set, val_set = train_test_split(train_val_set, test_size = 0.15, random_state = 0)"
   ]
  },
  {
   "cell_type": "code",
   "execution_count": 16,
   "id": "267ddb88",
   "metadata": {},
   "outputs": [
    {
     "data": {
      "text/plain": [
       "(5761, 17)"
      ]
     },
     "execution_count": 16,
     "metadata": {},
     "output_type": "execute_result"
    }
   ],
   "source": [
    "train_set.shape"
   ]
  },
  {
   "cell_type": "code",
   "execution_count": 17,
   "id": "802220fb",
   "metadata": {},
   "outputs": [
    {
     "data": {
      "text/plain": [
       "(1017, 17)"
      ]
     },
     "execution_count": 17,
     "metadata": {},
     "output_type": "execute_result"
    }
   ],
   "source": [
    "val_set.shape"
   ]
  },
  {
   "cell_type": "code",
   "execution_count": 18,
   "id": "486702f1",
   "metadata": {},
   "outputs": [
    {
     "data": {
      "text/plain": [
       "(1197, 17)"
      ]
     },
     "execution_count": 18,
     "metadata": {},
     "output_type": "execute_result"
    }
   ],
   "source": [
    "test_set.shape"
   ]
  },
  {
   "cell_type": "code",
   "execution_count": null,
   "id": "ac2dc5cb",
   "metadata": {},
   "outputs": [],
   "source": [
    "train_set.to_csv('training_set.csv', index=False)\n",
    "val_set.to_csv('validation_set.csv', index=False)\n",
    "test_set.to_csv('test_set.csv', index=False)"
   ]
  },
  {
   "cell_type": "code",
   "execution_count": null,
   "id": "1c6f4494",
   "metadata": {},
   "outputs": [],
   "source": [
    "train_set = pd.read_csv('training_set.csv', low_memory=False)\n",
    "val_set = pd.read_csv('validation_set.csv', low_memory=False)\n",
    "test_set = pd.read_csv('test_set.csv', low_memory=False)"
   ]
  },
  {
   "cell_type": "markdown",
   "id": "fac75b0e",
   "metadata": {},
   "source": [
    "### Filter images"
   ]
  },
  {
   "cell_type": "code",
   "execution_count": null,
   "id": "746bc657",
   "metadata": {},
   "outputs": [],
   "source": [
    "# create a list of 'ImageID' to compare with images names\n",
    "\n",
    "train_id_list = train_set['ImageID'].values.tolist()\n",
    "val_id_list = val_set['ImageID'].values.tolist()\n",
    "test_id_list = test_set['ImageID'].values.tolist()"
   ]
  },
  {
   "cell_type": "code",
   "execution_count": null,
   "id": "017e316f",
   "metadata": {},
   "outputs": [],
   "source": [
    "# create new folder for the relevant images\n",
    "\n",
    "#main_path = 'C:\\\\Users\\\\Kseniya\\\\Omdena\\\\MMML\\\\padchest\\\\images\\\\pneumonia_normal_images'\n",
    "#os.mkdir(main_path + '\\\\training_set')\n",
    "#os.mkdir(main_path + '\\\\validation_set')\n",
    "#os.mkdir(main_path + '\\\\test_set')"
   ]
  },
  {
   "cell_type": "code",
   "execution_count": null,
   "id": "0ab39915",
   "metadata": {},
   "outputs": [],
   "source": [
    "# !!! gives an filenotfound error, but sorts images correctly\n",
    "# !!! this function should be corrected\n",
    "\n",
    "# if an image name presents in the 'ImageID' list from csv with text notes, move the image to the created folder\n",
    "\n",
    "def sort_images(id_list, set_name):\n",
    "    for root, dirs, files in os.walk(\"./images/pneumonia_normal_images\"):  \n",
    "        for filename in files:\n",
    "            if filename in id_list:\n",
    "                shutil.move(f'./images/pneumonia_normal_images/{filename}', \\\n",
    "                            f'./images/pneumonia_normal_images/{set_name}/{filename}')"
   ]
  },
  {
   "cell_type": "code",
   "execution_count": null,
   "id": "b411eeb0",
   "metadata": {},
   "outputs": [],
   "source": [
    "sort_images(train_id_list, 'training_set')"
   ]
  },
  {
   "cell_type": "code",
   "execution_count": null,
   "id": "634535e3",
   "metadata": {},
   "outputs": [],
   "source": [
    "sort_images(val_id_list, 'validation_set')"
   ]
  },
  {
   "cell_type": "code",
   "execution_count": null,
   "id": "c2e6ab5d",
   "metadata": {},
   "outputs": [],
   "source": [
    "sort_images(test_id_list, 'test_set')"
   ]
  },
  {
   "cell_type": "code",
   "execution_count": null,
   "id": "98740f82",
   "metadata": {},
   "outputs": [],
   "source": []
  }
 ],
 "metadata": {
  "kernelspec": {
   "display_name": "Python 3 (ipykernel)",
   "language": "python",
   "name": "python3"
  },
  "language_info": {
   "codemirror_mode": {
    "name": "ipython",
    "version": 3
   },
   "file_extension": ".py",
   "mimetype": "text/x-python",
   "name": "python",
   "nbconvert_exporter": "python",
   "pygments_lexer": "ipython3",
   "version": "3.8.16"
  }
 },
 "nbformat": 4,
 "nbformat_minor": 5
}
