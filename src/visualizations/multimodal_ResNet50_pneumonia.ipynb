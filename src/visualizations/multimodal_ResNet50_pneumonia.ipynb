{
  "nbformat": 4,
  "nbformat_minor": 0,
  "metadata": {
    "colab": {
      "provenance": [],
      "gpuType": "T4"
    },
    "kernelspec": {
      "name": "python3",
      "display_name": "Python 3"
    },
    "language_info": {
      "name": "python"
    },
    "accelerator": "GPU"
  },
  "cells": [
    {
      "cell_type": "code",
      "execution_count": null,
      "metadata": {
        "id": "It7cvdKKRI6p"
      },
      "outputs": [],
      "source": [
        "import os\n",
        "import pandas as pd\n",
        "import numpy as np\n",
        "np.random.seed(42)\n",
        "import matplotlib.pyplot as plt\n",
        "\n",
        "from PIL import Image\n",
        "import cv2\n",
        "import imageio\n",
        "import random\n",
        "from collections import Counter\n",
        "\n",
        "from sklearn.metrics import accuracy_score, recall_score, precision_score, confusion_matrix, f1_score\n",
        "from sklearn.utils import class_weight"
      ]
    },
    {
      "cell_type": "code",
      "source": [
        "import tensorflow as tf\n",
        "tf.random.set_seed(42)\n",
        "import keras\n",
        "\n",
        "from keras.models import Model\n",
        "from keras.models import Sequential\n",
        "from keras.layers import Input, Dropout, Dense, Flatten, MaxPooling2D, Conv2D\n",
        "from keras.layers import GlobalAveragePooling2D, AveragePooling2D, BatchNormalization\n",
        "from keras.optimizers import Adam\n",
        "from keras.metrics import BinaryCrossentropy\n",
        "from keras.callbacks import LearningRateScheduler\n",
        "\n",
        "from keras.preprocessing.image import ImageDataGenerator\n",
        "\n",
        "from keras.applications.resnet import ResNet50"
      ],
      "metadata": {
        "id": "L-KVmyu5RUeC"
      },
      "execution_count": null,
      "outputs": []
    },
    {
      "cell_type": "markdown",
      "source": [
        "## ResNet50"
      ],
      "metadata": {
        "id": "gQ2C1V5-Rr1z"
      }
    },
    {
      "cell_type": "code",
      "source": [
        "image_generator = ImageDataGenerator(rescale=1./255)\n",
        "\n",
        "train_folder = '/content/drive/MyDrive/Omdena_multimodal/forLucyOmdena/pneumonia_selected/train'\n",
        "valid_folder = '/content/drive/MyDrive/Omdena_multimodal/forLucyOmdena/pneumonia_selected/valid'\n",
        "\n",
        "TARGET_SIZE = (224, 224)\n",
        "BATCH_SIZE = 16\n",
        "IMAGE_SIZE = 224\n",
        "\n",
        "train_generator = image_generator.flow_from_directory(train_folder,\n",
        "                                                      batch_size=BATCH_SIZE,\n",
        "                                                      shuffle=True,\n",
        "                                                      class_mode='binary',\n",
        "                                                      color_mode = 'rgb',\n",
        "                                                      target_size=TARGET_SIZE,\n",
        "                                                      seed=42)\n",
        "\n",
        "valid_generator = image_generator.flow_from_directory(valid_folder,\n",
        "                                                    target_size=TARGET_SIZE,\n",
        "                                                    batch_size = BATCH_SIZE,\n",
        "                                                    color_mode = 'rgb',\n",
        "                                                    shuffle=False,\n",
        "                                                    class_mode = 'binary',\n",
        "                                                    seed=42)\n",
        "\n",
        "STEP_SIZE_TRAIN = train_generator.n // train_generator.batch_size\n",
        "STEP_SIZE_VALID = valid_generator.n // valid_generator.batch_size"
      ],
      "metadata": {
        "colab": {
          "base_uri": "https://localhost:8080/"
        },
        "id": "ttscEKO2Rnea",
        "outputId": "be2e43a0-8d8d-422a-cbde-bb099fe0af27"
      },
      "execution_count": null,
      "outputs": [
        {
          "output_type": "stream",
          "name": "stdout",
          "text": [
            "Found 949 images belonging to 2 classes.\n",
            "Found 286 images belonging to 2 classes.\n"
          ]
        }
      ]
    },
    {
      "cell_type": "code",
      "source": [
        "train_classes = train_generator.classes\n",
        "class_weights = class_weight.compute_class_weight(\n",
        "                                        class_weight = \"balanced\",\n",
        "                                        classes = np.unique(train_classes),\n",
        "                                        y = train_classes\n",
        "                                    )\n",
        "class_weights = dict(zip(np.unique(train_classes), class_weights))\n",
        "class_weights"
      ],
      "metadata": {
        "colab": {
          "base_uri": "https://localhost:8080/"
        },
        "id": "x8y116miRzqA",
        "outputId": "3719db83-70ef-49a7-ff67-ed9c919ac5f8"
      },
      "execution_count": null,
      "outputs": [
        {
          "output_type": "execute_result",
          "data": {
            "text/plain": [
              "{0: 0.7579872204472844, 1: 1.4690402476780187}"
            ]
          },
          "metadata": {},
          "execution_count": 4
        }
      ]
    },
    {
      "cell_type": "code",
      "source": [
        "# create model\n",
        "def ResNet50_Model():\n",
        "    baseModel = ResNet50(weights='imagenet', include_top=False, input_tensor= tf.keras.layers.Input(shape=(224, 224, 3)))\n",
        "    x = baseModel.output\n",
        "    x = AveragePooling2D(pool_size=(2, 2))(x)\n",
        "    x = Flatten(name=\"flatten\")(x)\n",
        "    x = Dense(512, activation=\"relu\")(x)\n",
        "    x = Dropout(0.3)(x)\n",
        "    x = Dense(1, activation=\"sigmoid\")(x)\n",
        "    model = Model(inputs=baseModel.input, outputs=x)\n",
        "    # loop over all layers in the base model and freeze them so they will not be updated during the first training process\n",
        "    for layer in baseModel.layers:\n",
        "        layer.trainable = False\n",
        "    return model\n",
        "\n",
        "model = ResNet50_Model()"
      ],
      "metadata": {
        "colab": {
          "base_uri": "https://localhost:8080/"
        },
        "id": "wtQELrvUSE8_",
        "outputId": "2c2662d7-fa34-4363-9008-d57e486776cf"
      },
      "execution_count": null,
      "outputs": [
        {
          "output_type": "stream",
          "name": "stdout",
          "text": [
            "Downloading data from https://storage.googleapis.com/tensorflow/keras-applications/resnet/resnet50_weights_tf_dim_ordering_tf_kernels_notop.h5\n",
            "94765736/94765736 [==============================] - 1s 0us/step\n"
          ]
        }
      ]
    },
    {
      "cell_type": "code",
      "source": [
        "INIT_LR = 0.001\n",
        "EPOCHS = 20\n"
      ],
      "metadata": {
        "id": "tcPqphq_SWeT"
      },
      "execution_count": null,
      "outputs": []
    },
    {
      "cell_type": "code",
      "source": [
        "# compile model\n",
        "model.compile(loss = 'binary_crossentropy',\n",
        "              optimizer = Adam(learning_rate=INIT_LR, decay=INIT_LR / EPOCHS),\n",
        "              metrics = ['accuracy'])"
      ],
      "metadata": {
        "id": "_omKE437YO35"
      },
      "execution_count": null,
      "outputs": []
    },
    {
      "cell_type": "code",
      "source": [
        "# train model\n",
        "r = model.fit(train_generator,\n",
        "                    steps_per_epoch = STEP_SIZE_TRAIN,\n",
        "                    validation_data = valid_generator,\n",
        "                    validation_steps = STEP_SIZE_VALID,\n",
        "                    epochs = EPOCHS,\n",
        "                    class_weight = class_weights)"
      ],
      "metadata": {
        "colab": {
          "base_uri": "https://localhost:8080/"
        },
        "id": "Zw04cSAlScsn",
        "outputId": "3c8d534d-954c-426c-8d05-9407ee783212"
      },
      "execution_count": null,
      "outputs": [
        {
          "output_type": "stream",
          "name": "stdout",
          "text": [
            "Epoch 1/20\n",
            "59/59 [==============================] - 12s 154ms/step - loss: 0.5211 - accuracy: 0.7738 - val_loss: 0.4938 - val_accuracy: 0.8051\n",
            "Epoch 2/20\n",
            "59/59 [==============================] - 6s 100ms/step - loss: 0.5176 - accuracy: 0.7728 - val_loss: 0.4934 - val_accuracy: 0.8125\n",
            "Epoch 3/20\n",
            "59/59 [==============================] - 7s 113ms/step - loss: 0.5128 - accuracy: 0.7814 - val_loss: 0.5918 - val_accuracy: 0.6691\n",
            "Epoch 4/20\n",
            "59/59 [==============================] - 7s 124ms/step - loss: 0.5210 - accuracy: 0.7556 - val_loss: 0.5150 - val_accuracy: 0.7647\n",
            "Epoch 5/20\n",
            "59/59 [==============================] - 7s 120ms/step - loss: 0.5163 - accuracy: 0.7653 - val_loss: 0.4905 - val_accuracy: 0.8162\n",
            "Epoch 6/20\n",
            "59/59 [==============================] - 7s 114ms/step - loss: 0.5138 - accuracy: 0.7567 - val_loss: 0.4847 - val_accuracy: 0.8162\n",
            "Epoch 7/20\n",
            "59/59 [==============================] - 6s 101ms/step - loss: 0.5195 - accuracy: 0.7546 - val_loss: 0.5207 - val_accuracy: 0.8199\n",
            "Epoch 8/20\n",
            "59/59 [==============================] - 6s 110ms/step - loss: 0.5237 - accuracy: 0.7706 - val_loss: 0.5096 - val_accuracy: 0.8199\n",
            "Epoch 9/20\n",
            "59/59 [==============================] - 6s 101ms/step - loss: 0.5151 - accuracy: 0.7481 - val_loss: 0.5582 - val_accuracy: 0.7647\n",
            "Epoch 10/20\n",
            "59/59 [==============================] - 8s 137ms/step - loss: 0.5270 - accuracy: 0.7738 - val_loss: 0.5187 - val_accuracy: 0.7904\n",
            "Epoch 11/20\n",
            "59/59 [==============================] - 7s 124ms/step - loss: 0.5030 - accuracy: 0.7889 - val_loss: 0.5798 - val_accuracy: 0.7279\n",
            "Epoch 12/20\n",
            "59/59 [==============================] - 7s 116ms/step - loss: 0.5165 - accuracy: 0.7717 - val_loss: 0.4894 - val_accuracy: 0.7904\n",
            "Epoch 13/20\n",
            "59/59 [==============================] - 8s 132ms/step - loss: 0.5102 - accuracy: 0.7974 - val_loss: 0.4947 - val_accuracy: 0.7757\n",
            "Epoch 14/20\n",
            "59/59 [==============================] - 6s 103ms/step - loss: 0.5244 - accuracy: 0.7706 - val_loss: 0.5047 - val_accuracy: 0.8125\n",
            "Epoch 15/20\n",
            "59/59 [==============================] - 7s 111ms/step - loss: 0.5033 - accuracy: 0.7846 - val_loss: 0.4755 - val_accuracy: 0.8015\n",
            "Epoch 16/20\n",
            "59/59 [==============================] - 7s 115ms/step - loss: 0.5068 - accuracy: 0.7781 - val_loss: 0.4527 - val_accuracy: 0.8199\n",
            "Epoch 17/20\n",
            "59/59 [==============================] - 7s 124ms/step - loss: 0.5107 - accuracy: 0.7878 - val_loss: 0.5052 - val_accuracy: 0.8235\n",
            "Epoch 18/20\n",
            "59/59 [==============================] - 7s 115ms/step - loss: 0.4906 - accuracy: 0.7985 - val_loss: 0.4411 - val_accuracy: 0.8235\n",
            "Epoch 19/20\n",
            "59/59 [==============================] - 7s 121ms/step - loss: 0.5197 - accuracy: 0.7642 - val_loss: 0.5174 - val_accuracy: 0.8162\n",
            "Epoch 20/20\n",
            "59/59 [==============================] - 7s 125ms/step - loss: 0.5166 - accuracy: 0.7867 - val_loss: 0.4525 - val_accuracy: 0.8199\n"
          ]
        }
      ]
    },
    {
      "cell_type": "code",
      "source": [
        "plt.plot(r.history[\"loss\"], label=\"loss\")\n",
        "plt.plot(r.history[\"val_loss\"], label=\"val_loss\")\n",
        "plt.legend()"
      ],
      "metadata": {
        "colab": {
          "base_uri": "https://localhost:8080/",
          "height": 447
        },
        "id": "PFvnG7_RSpom",
        "outputId": "9f257689-a50b-4e1b-9c05-ee705efde140"
      },
      "execution_count": null,
      "outputs": [
        {
          "output_type": "execute_result",
          "data": {
            "text/plain": [
              "<matplotlib.legend.Legend at 0x7e77cc5df4f0>"
            ]
          },
          "metadata": {},
          "execution_count": 32
        },
        {
          "output_type": "display_data",
          "data": {
            "text/plain": [
              "<Figure size 640x480 with 1 Axes>"
            ],
            "image/png": "[encoded data removed]"
          },
          "metadata": {}
        }
      ]
    },
    {
      "cell_type": "code",
      "source": [
        "plt.plot(r.history[\"accuracy\"], label=\"accuracy\")\n",
        "plt.plot(r.history[\"val_accuracy\"], label=\"val_accuracy\")\n",
        "plt.legend()"
      ],
      "metadata": {
        "colab": {
          "base_uri": "https://localhost:8080/",
          "height": 447
        },
        "id": "O0s4KQ1USuzm",
        "outputId": "db2d2455-3087-4e14-b807-b29cc73a2e94"
      },
      "execution_count": null,
      "outputs": [
        {
          "output_type": "execute_result",
          "data": {
            "text/plain": [
              "<matplotlib.legend.Legend at 0x7e77cc44efb0>"
            ]
          },
          "metadata": {},
          "execution_count": 33
        },
        {
          "output_type": "display_data",
          "data": {
            "text/plain": [
              "<Figure size 640x480 with 1 Axes>"
            ],
            "image/png": "[encoded data removed]"
          },
          "metadata": {}
        }
      ]
    },
    {
      "cell_type": "markdown",
      "source": [
        "## Testing the model"
      ],
      "metadata": {
        "id": "7egGD0OWSyV9"
      }
    },
    {
      "cell_type": "code",
      "source": [
        "test_folder = '/content/drive/MyDrive/Omdena_multimodal/forLucyOmdena/pneumonia_selected/test'"
      ],
      "metadata": {
        "id": "l_7HX3D9S03o"
      },
      "execution_count": null,
      "outputs": []
    },
    {
      "cell_type": "code",
      "source": [
        "test_generator = image_generator.flow_from_directory(test_folder,\n",
        "                                                    target_size=TARGET_SIZE,\n",
        "                                                    batch_size = 1,\n",
        "                                                    color_mode = 'rgb',\n",
        "                                                    shuffle=False,\n",
        "                                                    class_mode = 'binary')"
      ],
      "metadata": {
        "colab": {
          "base_uri": "https://localhost:8080/"
        },
        "id": "A7VBR71zS4zT",
        "outputId": "06b81a27-24b5-4597-d505-bf6c1b5247a5"
      },
      "execution_count": null,
      "outputs": [
        {
          "output_type": "stream",
          "name": "stdout",
          "text": [
            "Found 286 images belonging to 2 classes.\n"
          ]
        }
      ]
    },
    {
      "cell_type": "code",
      "source": [
        "filenames = test_generator.filenames\n",
        "nb_samples = len(filenames)\n",
        "\n",
        "preds = model.predict_generator(test_generator,steps = nb_samples)"
      ],
      "metadata": {
        "colab": {
          "base_uri": "https://localhost:8080/"
        },
        "id": "nJdgRVdHS9FS",
        "outputId": "20b15d39-b4e6-4c4e-ba6c-07f87965f8e5"
      },
      "execution_count": null,
      "outputs": [
        {
          "output_type": "stream",
          "name": "stderr",
          "text": [
            "<ipython-input-36-adfd4077dec3>:4: UserWarning: `Model.predict_generator` is deprecated and will be removed in a future version. Please use `Model.predict`, which supports generators.\n",
            "  preds = model.predict_generator(test_generator,steps = nb_samples)\n"
          ]
        }
      ]
    },
    {
      "cell_type": "code",
      "source": [
        "y_pred = np.round(preds)"
      ],
      "metadata": {
        "id": "fexIAfvqTBr1"
      },
      "execution_count": null,
      "outputs": []
    },
    {
      "cell_type": "code",
      "source": [
        "np.max(y_pred)"
      ],
      "metadata": {
        "colab": {
          "base_uri": "https://localhost:8080/"
        },
        "id": "pmwHJDAXTE3f",
        "outputId": "ab86eafb-c215-40c7-be14-85f3007e42c7"
      },
      "execution_count": null,
      "outputs": [
        {
          "output_type": "execute_result",
          "data": {
            "text/plain": [
              "1.0"
            ]
          },
          "metadata": {},
          "execution_count": 38
        }
      ]
    },
    {
      "cell_type": "code",
      "source": [
        "y_true = test_generator.classes"
      ],
      "metadata": {
        "id": "bdFVbdjVTIEM"
      },
      "execution_count": null,
      "outputs": []
    },
    {
      "cell_type": "code",
      "source": [
        "cm = confusion_matrix(y_true, y_pred)\n",
        "cm"
      ],
      "metadata": {
        "colab": {
          "base_uri": "https://localhost:8080/"
        },
        "id": "RLulueVTTLL9",
        "outputId": "d3476171-e0a3-4a60-87c2-73f34220a530"
      },
      "execution_count": null,
      "outputs": [
        {
          "output_type": "execute_result",
          "data": {
            "text/plain": [
              "array([[183,   3],\n",
              "       [ 50,  50]])"
            ]
          },
          "metadata": {},
          "execution_count": 40
        }
      ]
    },
    {
      "cell_type": "code",
      "source": [
        "accuracy = accuracy_score(y_true, y_pred)\n",
        "print(\"Test Accuracy:\", accuracy)"
      ],
      "metadata": {
        "colab": {
          "base_uri": "https://localhost:8080/"
        },
        "id": "Fwgpc5wMTOW2",
        "outputId": "b196b69d-54a2-425f-db1b-f46e295ae047"
      },
      "execution_count": null,
      "outputs": [
        {
          "output_type": "stream",
          "name": "stdout",
          "text": [
            "Test Accuracy: 0.8146853146853147\n"
          ]
        }
      ]
    },
    {
      "cell_type": "code",
      "source": [
        "precision = precision_score(y_true, y_pred)\n",
        "print(\"Test Precision:\", precision)"
      ],
      "metadata": {
        "colab": {
          "base_uri": "https://localhost:8080/"
        },
        "id": "JqLf2g-ETRsK",
        "outputId": "ce5fc6d1-17fe-4a37-d1fc-f522b49c9c2e"
      },
      "execution_count": null,
      "outputs": [
        {
          "output_type": "stream",
          "name": "stdout",
          "text": [
            "Test Precision: 0.9433962264150944\n"
          ]
        }
      ]
    },
    {
      "cell_type": "code",
      "source": [
        "recall = recall_score(y_true, y_pred)\n",
        "print(\"Test Recall:\", recall)"
      ],
      "metadata": {
        "colab": {
          "base_uri": "https://localhost:8080/"
        },
        "id": "SWPExOQsTU6r",
        "outputId": "6785272c-706a-46d1-c727-c9027e23a21b"
      },
      "execution_count": null,
      "outputs": [
        {
          "output_type": "stream",
          "name": "stdout",
          "text": [
            "Test Recall: 0.5\n"
          ]
        }
      ]
    },
    {
      "cell_type": "code",
      "source": [
        "f1 = f1_score(y_true, y_pred)\n",
        "print(\"f1 score:\", f1)"
      ],
      "metadata": {
        "colab": {
          "base_uri": "https://localhost:8080/"
        },
        "id": "gmCjadNmTYU6",
        "outputId": "3306ea40-0a81-4cfa-e571-32b1ebce58e7"
      },
      "execution_count": null,
      "outputs": [
        {
          "output_type": "stream",
          "name": "stdout",
          "text": [
            "f1 score: 0.6535947712418301\n"
          ]
        }
      ]
    },
    {
      "cell_type": "code",
      "source": [],
      "metadata": {
        "id": "cVdZ37T1XJnd"
      },
      "execution_count": null,
      "outputs": []
    }
  ]
}