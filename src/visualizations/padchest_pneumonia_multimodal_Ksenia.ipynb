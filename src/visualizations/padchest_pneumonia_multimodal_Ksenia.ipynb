{
 "cells": [
  {
   "cell_type": "markdown",
   "metadata": {},
   "source": [
    "### Import libraries"
   ]
  },
  {
   "cell_type": "code",
   "execution_count": 1,
   "metadata": {},
   "outputs": [],
   "source": [
    "import pandas as pd\n",
    "import numpy as np\n",
    "import matplotlib.pyplot as plt"
   ]
  },
  {
   "cell_type": "code",
   "execution_count": 2,
   "metadata": {},
   "outputs": [],
   "source": [
    "# for nlp part\n",
    "\n",
    "import re\n",
    "import nltk\n",
    "from nltk.tokenize import RegexpTokenizer\n",
    "from nltk.tokenize.treebank import TreebankWordDetokenizer\n",
    "from nltk.corpus import stopwords\n",
    "from nltk.stem.porter import PorterStemmer\n",
    "\n",
    "from sklearn.feature_extraction.text import CountVectorizer\n",
    "from sklearn.naive_bayes import GaussianNB\n",
    "from sklearn.metrics import confusion_matrix, accuracy_score, f1_score, precision_score, recall_score, roc_auc_score"
   ]
  },
  {
   "cell_type": "code",
   "execution_count": 3,
   "metadata": {},
   "outputs": [],
   "source": [
    "# for cv part\n",
    "\n",
    "import tensorflow as tf\n",
    "from keras.preprocessing.image import ImageDataGenerator\n",
    "from keras.models import Model, Sequential\n",
    "from keras.layers import Input, Dense, Flatten, Dropout, BatchNormalization\n",
    "from keras.layers import Conv2D, SeparableConv2D, MaxPool2D, LeakyReLU, Activation\n",
    "from keras.optimizers import Adam\n",
    "from keras.callbacks import ModelCheckpoint, ReduceLROnPlateau, EarlyStopping\n",
    "import keras.backend as K\n",
    "from keras.models import load_model"
   ]
  },
  {
   "cell_type": "code",
   "execution_count": 4,
   "metadata": {},
   "outputs": [],
   "source": [
    "# for multimodal part\n",
    "\n",
    "from sklearn.ensemble import RandomForestClassifier\n",
    "from sklearn.preprocessing import LabelEncoder"
   ]
  },
  {
   "cell_type": "markdown",
   "metadata": {},
   "source": [
    "### Functions"
   ]
  },
  {
   "cell_type": "code",
   "execution_count": 49,
   "metadata": {},
   "outputs": [],
   "source": [
    "# show the metrics of a model\n",
    "\n",
    "def get_metrics(y_val, y_pred, pos_label):\n",
    "    print(confusion_matrix(y_val, y_pred))\n",
    "    print(f'accuracy = {accuracy_score(y_val, y_pred)}')\n",
    "    print(f'F1 score = {f1_score(y_val, y_pred, pos_label=pos_label)}')\n",
    "    print(f'precision = {precision_score(y_val, y_pred, pos_label=pos_label)}')\n",
    "    print(f'recall = {recall_score(y_val, y_pred, pos_label=pos_label)}')"
   ]
  },
  {
   "cell_type": "markdown",
   "metadata": {},
   "source": [
    "### Import dataset"
   ]
  },
  {
   "cell_type": "markdown",
   "metadata": {},
   "source": [
    "The original dataset 'padchest_pneumonia_normal_en.csv' was provided by Wafa and conteins reports translated by Google Translator as well as ChatGPT.\n",
    "\n",
    "The dataset was splitted on training, validation and test parts in a separate notebook."
   ]
  },
  {
   "cell_type": "code",
   "execution_count": 6,
   "metadata": {},
   "outputs": [],
   "source": [
    "train_set = pd.read_csv('training_set.csv', low_memory=False)\n",
    "val_set = pd.read_csv('validation_set.csv', low_memory=False)\n",
    "test_set = pd.read_csv('test_set.csv', low_memory=False)"
   ]
  },
  {
   "cell_type": "code",
   "execution_count": 14,
   "metadata": {},
   "outputs": [
    {
     "data": {
      "text/plain": [
       "(5761, 17)"
      ]
     },
     "execution_count": 14,
     "metadata": {},
     "output_type": "execute_result"
    }
   ],
   "source": [
    "train_set.shape"
   ]
  },
  {
   "cell_type": "code",
   "execution_count": 15,
   "metadata": {},
   "outputs": [
    {
     "data": {
      "text/html": [
       "<div>\n",
       "<style scoped>\n",
       "    .dataframe tbody tr th:only-of-type {\n",
       "        vertical-align: middle;\n",
       "    }\n",
       "\n",
       "    .dataframe tbody tr th {\n",
       "        vertical-align: top;\n",
       "    }\n",
       "\n",
       "    .dataframe thead th {\n",
       "        text-align: right;\n",
       "    }\n",
       "</style>\n",
       "<table border=\"1\" class=\"dataframe\">\n",
       "  <thead>\n",
       "    <tr style=\"text-align: right;\">\n",
       "      <th></th>\n",
       "      <th>ImageID</th>\n",
       "      <th>StudyDate_DICOM</th>\n",
       "      <th>StudyID</th>\n",
       "      <th>PatientID</th>\n",
       "      <th>PatientBirth</th>\n",
       "      <th>PatientSex_DICOM</th>\n",
       "      <th>ViewPosition_DICOM</th>\n",
       "      <th>ReportID</th>\n",
       "      <th>Pediatric</th>\n",
       "      <th>Report</th>\n",
       "      <th>MethodLabel</th>\n",
       "      <th>Labels</th>\n",
       "      <th>Localizations</th>\n",
       "      <th>LabelsLocalizationsBySentence</th>\n",
       "      <th>PatientAge</th>\n",
       "      <th>Report_en_ChatGPT</th>\n",
       "      <th>Report_en_GoogleTr</th>\n",
       "    </tr>\n",
       "  </thead>\n",
       "  <tbody>\n",
       "    <tr>\n",
       "      <th>0</th>\n",
       "      <td>102109826991700169491794009328257401163_yk55tc...</td>\n",
       "      <td>20170508</td>\n",
       "      <td>102109826991700169491794009328257401163</td>\n",
       "      <td>80342194608282024804381685221733578164</td>\n",
       "      <td>1970.0</td>\n",
       "      <td>M</td>\n",
       "      <td>POSTEROANTERIOR</td>\n",
       "      <td>5377371</td>\n",
       "      <td>NO</td>\n",
       "      <td>sin hallazg relev</td>\n",
       "      <td>Physician</td>\n",
       "      <td>normal</td>\n",
       "      <td>[]</td>\n",
       "      <td>[['normal']]</td>\n",
       "      <td>47.0</td>\n",
       "      <td>\"no relevant findings\"</td>\n",
       "      <td>no relevant finding</td>\n",
       "    </tr>\n",
       "    <tr>\n",
       "      <th>1</th>\n",
       "      <td>16195291732581043929483414230565603291-3_tkvs1...</td>\n",
       "      <td>20171106</td>\n",
       "      <td>16195291732581043929483414230565603291-3</td>\n",
       "      <td>254654689860114856846890774049753268092</td>\n",
       "      <td>1997.0</td>\n",
       "      <td>M</td>\n",
       "      <td>POSTEROANTERIOR</td>\n",
       "      <td>5510015</td>\n",
       "      <td>NO</td>\n",
       "      <td>resolucion practic complet neumotorax derech  ...</td>\n",
       "      <td>Physician</td>\n",
       "      <td>normal</td>\n",
       "      <td>['loc right', 'loc left', 'loc hemithorax']</td>\n",
       "      <td>[['normal', 'loc right'], ['normal', 'loc hemi...</td>\n",
       "      <td>20.0</td>\n",
       "      <td>Translated text: \"Practical resolution complet...</td>\n",
       "      <td>complete practical resolution right pneumothor...</td>\n",
       "    </tr>\n",
       "    <tr>\n",
       "      <th>2</th>\n",
       "      <td>224317221325445520926245339017025976472_lzt2je...</td>\n",
       "      <td>20160118</td>\n",
       "      <td>224317221325445520926245339017025976472</td>\n",
       "      <td>5138157077994189375543509304304176478</td>\n",
       "      <td>1984.0</td>\n",
       "      <td>M</td>\n",
       "      <td>LATERAL</td>\n",
       "      <td>5063109</td>\n",
       "      <td>NO</td>\n",
       "      <td>sin hallazg relev</td>\n",
       "      <td>Physician</td>\n",
       "      <td>normal</td>\n",
       "      <td>[]</td>\n",
       "      <td>[['normal']]</td>\n",
       "      <td>32.0</td>\n",
       "      <td>\"no relevant findings\"</td>\n",
       "      <td>no relevant finding</td>\n",
       "    </tr>\n",
       "  </tbody>\n",
       "</table>\n",
       "</div>"
      ],
      "text/plain": [
       "                                             ImageID  StudyDate_DICOM  \\\n",
       "0  102109826991700169491794009328257401163_yk55tc...         20170508   \n",
       "1  16195291732581043929483414230565603291-3_tkvs1...         20171106   \n",
       "2  224317221325445520926245339017025976472_lzt2je...         20160118   \n",
       "\n",
       "                                    StudyID  \\\n",
       "0   102109826991700169491794009328257401163   \n",
       "1  16195291732581043929483414230565603291-3   \n",
       "2   224317221325445520926245339017025976472   \n",
       "\n",
       "                                 PatientID  PatientBirth PatientSex_DICOM  \\\n",
       "0   80342194608282024804381685221733578164        1970.0                M   \n",
       "1  254654689860114856846890774049753268092        1997.0                M   \n",
       "2    5138157077994189375543509304304176478        1984.0                M   \n",
       "\n",
       "  ViewPosition_DICOM  ReportID Pediatric  \\\n",
       "0    POSTEROANTERIOR   5377371        NO   \n",
       "1    POSTEROANTERIOR   5510015        NO   \n",
       "2            LATERAL   5063109        NO   \n",
       "\n",
       "                                              Report MethodLabel  Labels  \\\n",
       "0                                  sin hallazg relev   Physician  normal   \n",
       "1  resolucion practic complet neumotorax derech  ...   Physician  normal   \n",
       "2                                  sin hallazg relev   Physician  normal   \n",
       "\n",
       "                                 Localizations  \\\n",
       "0                                           []   \n",
       "1  ['loc right', 'loc left', 'loc hemithorax']   \n",
       "2                                           []   \n",
       "\n",
       "                       LabelsLocalizationsBySentence  PatientAge  \\\n",
       "0                                       [['normal']]        47.0   \n",
       "1  [['normal', 'loc right'], ['normal', 'loc hemi...        20.0   \n",
       "2                                       [['normal']]        32.0   \n",
       "\n",
       "                                   Report_en_ChatGPT  \\\n",
       "0                             \"no relevant findings\"   \n",
       "1  Translated text: \"Practical resolution complet...   \n",
       "2                             \"no relevant findings\"   \n",
       "\n",
       "                                  Report_en_GoogleTr  \n",
       "0                                no relevant finding  \n",
       "1  complete practical resolution right pneumothor...  \n",
       "2                                no relevant finding  "
      ]
     },
     "execution_count": 15,
     "metadata": {},
     "output_type": "execute_result"
    }
   ],
   "source": [
    "train_set.head(3)"
   ]
  },
  {
   "cell_type": "code",
   "execution_count": 16,
   "metadata": {},
   "outputs": [
    {
     "data": {
      "text/plain": [
       "(1017, 17)"
      ]
     },
     "execution_count": 16,
     "metadata": {},
     "output_type": "execute_result"
    }
   ],
   "source": [
    "val_set.shape"
   ]
  },
  {
   "cell_type": "code",
   "execution_count": 17,
   "metadata": {},
   "outputs": [
    {
     "data": {
      "text/plain": [
       "(1197, 17)"
      ]
     },
     "execution_count": 17,
     "metadata": {},
     "output_type": "execute_result"
    }
   ],
   "source": [
    "test_set.shape"
   ]
  },
  {
   "cell_type": "code",
   "execution_count": 18,
   "metadata": {},
   "outputs": [],
   "source": [
    "# this function checks data leakage of the dataset, and was originally developed by Saurabh Bhardwaj\n",
    "\n",
    "def check_for_leakage(df1, df2, patient_col):\n",
    "    \"\"\"\n",
    "    Return True if there any patients are in both df1 and df2.\n",
    "\n",
    "    Args:\n",
    "        df1 (dataframe): dataframe describing first dataset\n",
    "        df2 (dataframe): dataframe describing second dataset\n",
    "        patient_col (str): string name of column with patient IDs\n",
    "    \n",
    "    Returns:\n",
    "        leakage (bool): True if there is leakage, otherwise False\n",
    "    \"\"\"\n",
    " \n",
    "    df1_patients_unique = df1[patient_col].nunique()\n",
    "    df2_patients_unique = df2[patient_col].nunique()\n",
    "    \n",
    "    patients_in_both_groups = df1_patients_unique+df2_patients_unique\n",
    "\n",
    "    # leakage contains true if there is patient overlap, otherwise false.\n",
    "    leakage = len(list(set(df1[patient_col].values).intersection(set(df2[patient_col].values)))) > 0 # boolean (true if there is at least 1 patient in both groups)\n",
    "    \n",
    "    ### END CODE HERE ###\n",
    "    \n",
    "    return leakage"
   ]
  },
  {
   "cell_type": "code",
   "execution_count": 19,
   "metadata": {},
   "outputs": [
    {
     "name": "stdout",
     "output_type": "stream",
     "text": [
      "leakage between train and valid: True\n",
      "leakage between train and test: True\n",
      "leakage between valid and test: True\n"
     ]
    }
   ],
   "source": [
    "# check data leakage between training, validation and test part by PatientID\n",
    "\n",
    "print(\"leakage between train and valid: {}\".format(check_for_leakage(train_set, val_set, 'PatientID')))\n",
    "print(\"leakage between train and test: {}\".format(check_for_leakage(train_set, test_set, 'PatientID')))\n",
    "print(\"leakage between valid and test: {}\".format(check_for_leakage(val_set, test_set, 'PatientID')))"
   ]
  },
  {
   "cell_type": "markdown",
   "metadata": {},
   "source": [
    "### NLP"
   ]
  },
  {
   "cell_type": "markdown",
   "metadata": {},
   "source": [
    "#### Preprocessing "
   ]
  },
  {
   "cell_type": "code",
   "execution_count": 7,
   "metadata": {},
   "outputs": [],
   "source": [
    "# normilize\n",
    "\n",
    "train_set['Report_en_ChatGPT'] = train_set['Report_en_ChatGPT'].str.lower()\n",
    "val_set['Report_en_ChatGPT'] = val_set['Report_en_ChatGPT'].str.lower()\n",
    "test_set['Report_en_ChatGPT'] = test_set['Report_en_ChatGPT'].str.lower()"
   ]
  },
  {
   "cell_type": "code",
   "execution_count": 8,
   "metadata": {},
   "outputs": [],
   "source": [
    "# this function was originally developed by Wafa\n",
    "\n",
    "# remove extra symbols and comments from ChatGPT\n",
    "\n",
    "def pre_process(text):\n",
    "    sentences = re.findall(r'\"(.*?)\"', text)\n",
    "    if len(sentences)==0:\n",
    "        return(text)\n",
    "    elif len(sentences) >= 2:\n",
    "        second_sentence = sentences[1]\n",
    "        return(second_sentence)\n",
    "    else:\n",
    "        return(sentences[0])"
   ]
  },
  {
   "cell_type": "code",
   "execution_count": 9,
   "metadata": {},
   "outputs": [],
   "source": [
    "train_set['Report_en_ChatGPT'] = train_set['Report_en_ChatGPT'].apply(lambda x : pre_process(x))\n",
    "val_set['Report_en_ChatGPT'] = val_set['Report_en_ChatGPT'].apply(lambda x : pre_process(x))\n",
    "test_set['Report_en_ChatGPT'] = test_set['Report_en_ChatGPT'].apply(lambda x : pre_process(x))"
   ]
  },
  {
   "cell_type": "code",
   "execution_count": 10,
   "metadata": {},
   "outputs": [
    {
     "name": "stderr",
     "output_type": "stream",
     "text": [
      "[nltk_data] Downloading package stopwords to\n",
      "[nltk_data]     C:\\Users\\Kseniya\\AppData\\Roaming\\nltk_data...\n",
      "[nltk_data]   Package stopwords is already up-to-date!\n"
     ]
    }
   ],
   "source": [
    "# remove stop words\n",
    "\n",
    "tokenizer = RegexpTokenizer(r'\\w+')\n",
    "ps = PorterStemmer()\n",
    "detokenizer = TreebankWordDetokenizer()\n",
    "\n",
    "nltk.download('stopwords')\n",
    "stop=stopwords.words('english')\n",
    "stop.remove('no')"
   ]
  },
  {
   "cell_type": "code",
   "execution_count": 11,
   "metadata": {},
   "outputs": [
    {
     "data": {
      "text/plain": [
       "0                                           no relev find\n",
       "1       practic resolut complet no signific patholog f...\n",
       "2                                           no relev find\n",
       "3                                           no relev find\n",
       "4                                           no relev find\n",
       "                              ...                        \n",
       "5756                                        no relev find\n",
       "5757                       without signific patholog find\n",
       "5758    no identifi imag consolid opac lung no signifi...\n",
       "5759                 no observ infiltr without relev find\n",
       "5760                         no patholog find patient age\n",
       "Name: Report_en_ChatGPT, Length: 5761, dtype: object"
      ]
     },
     "execution_count": 11,
     "metadata": {},
     "output_type": "execute_result"
    }
   ],
   "source": [
    "# we remove stop words from training part, but leave validation and test untouchable\n",
    "\n",
    "train_set['Report_en_ChatGPT'] = train_set['Report_en_ChatGPT'].map(lambda x: tokenizer.tokenize(str(x)))\n",
    "train_set['Report_en_ChatGPT'] = train_set['Report_en_ChatGPT'].map(lambda x: \\\n",
    "                                                                          [ps.stem(word) for word in x if not word in stop])\n",
    "train_set['Report_en_ChatGPT'] = train_set['Report_en_ChatGPT'].map(lambda x: detokenizer.detokenize(x))\n",
    "train_set['Report_en_ChatGPT']"
   ]
  },
  {
   "cell_type": "code",
   "execution_count": 12,
   "metadata": {},
   "outputs": [
    {
     "data": {
      "text/plain": [
       "array(['no relev find',\n",
       "       'practic resolut complet no signific patholog find right pneumothorax left hemithorax show signific patholog find',\n",
       "       'no relev find', ...,\n",
       "       'no identifi imag consolid opac lung no signific entiti within normal limit cardiac mediastinum silhouett',\n",
       "       'no observ infiltr without relev find',\n",
       "       'no patholog find patient age'], dtype=object)"
      ]
     },
     "execution_count": 12,
     "metadata": {},
     "output_type": "execute_result"
    }
   ],
   "source": [
    "train_corpus_model = train_set['Report_en_ChatGPT'].values\n",
    "train_corpus_model"
   ]
  },
  {
   "cell_type": "code",
   "execution_count": null,
   "metadata": {},
   "outputs": [],
   "source": [
    "val_corpus_model = val_set['Report_en_ChatGPT'].values"
   ]
  },
  {
   "cell_type": "code",
   "execution_count": null,
   "metadata": {},
   "outputs": [],
   "source": [
    "test_corpus_model = test_set['Report_en_ChatGPT'].values"
   ]
  },
  {
   "cell_type": "code",
   "execution_count": 15,
   "metadata": {},
   "outputs": [],
   "source": [
    "# create the Bag of Words model\n",
    "\n",
    "vectorizer = CountVectorizer()\n",
    "\n",
    "X_train_nlp = vectorizer.fit_transform(train_corpus_model).toarray()\n",
    "y_train_nlp = train_set['Labels'].values\n",
    "\n",
    "X_val_nlp = vectorizer.transform(val_corpus_model).toarray()\n",
    "y_val_nlp = val_set['Labels'].values\n",
    "\n",
    "X_test_nlp = vectorizer.transform(test_corpus_model).toarray()\n",
    "y_test_nlp = test_set['Labels'].values"
   ]
  },
  {
   "cell_type": "markdown",
   "metadata": {},
   "source": [
    "#### Model Building"
   ]
  },
  {
   "cell_type": "code",
   "execution_count": 16,
   "metadata": {},
   "outputs": [
    {
     "data": {
      "text/html": [
       "<style>#sk-container-id-1 {color: black;background-color: white;}#sk-container-id-1 pre{padding: 0;}#sk-container-id-1 div.sk-toggleable {background-color: white;}#sk-container-id-1 label.sk-toggleable__label {cursor: pointer;display: block;width: 100%;margin-bottom: 0;padding: 0.3em;box-sizing: border-box;text-align: center;}#sk-container-id-1 label.sk-toggleable__label-arrow:before {content: \"▸\";float: left;margin-right: 0.25em;color: #696969;}#sk-container-id-1 label.sk-toggleable__label-arrow:hover:before {color: black;}#sk-container-id-1 div.sk-estimator:hover label.sk-toggleable__label-arrow:before {color: black;}#sk-container-id-1 div.sk-toggleable__content {max-height: 0;max-width: 0;overflow: hidden;text-align: left;background-color: #f0f8ff;}#sk-container-id-1 div.sk-toggleable__content pre {margin: 0.2em;color: black;border-radius: 0.25em;background-color: #f0f8ff;}#sk-container-id-1 input.sk-toggleable__control:checked~div.sk-toggleable__content {max-height: 200px;max-width: 100%;overflow: auto;}#sk-container-id-1 input.sk-toggleable__control:checked~label.sk-toggleable__label-arrow:before {content: \"▾\";}#sk-container-id-1 div.sk-estimator input.sk-toggleable__control:checked~label.sk-toggleable__label {background-color: #d4ebff;}#sk-container-id-1 div.sk-label input.sk-toggleable__control:checked~label.sk-toggleable__label {background-color: #d4ebff;}#sk-container-id-1 input.sk-hidden--visually {border: 0;clip: rect(1px 1px 1px 1px);clip: rect(1px, 1px, 1px, 1px);height: 1px;margin: -1px;overflow: hidden;padding: 0;position: absolute;width: 1px;}#sk-container-id-1 div.sk-estimator {font-family: monospace;background-color: #f0f8ff;border: 1px dotted black;border-radius: 0.25em;box-sizing: border-box;margin-bottom: 0.5em;}#sk-container-id-1 div.sk-estimator:hover {background-color: #d4ebff;}#sk-container-id-1 div.sk-parallel-item::after {content: \"\";width: 100%;border-bottom: 1px solid gray;flex-grow: 1;}#sk-container-id-1 div.sk-label:hover label.sk-toggleable__label {background-color: #d4ebff;}#sk-container-id-1 div.sk-serial::before {content: \"\";position: absolute;border-left: 1px solid gray;box-sizing: border-box;top: 0;bottom: 0;left: 50%;z-index: 0;}#sk-container-id-1 div.sk-serial {display: flex;flex-direction: column;align-items: center;background-color: white;padding-right: 0.2em;padding-left: 0.2em;position: relative;}#sk-container-id-1 div.sk-item {position: relative;z-index: 1;}#sk-container-id-1 div.sk-parallel {display: flex;align-items: stretch;justify-content: center;background-color: white;position: relative;}#sk-container-id-1 div.sk-item::before, #sk-container-id-1 div.sk-parallel-item::before {content: \"\";position: absolute;border-left: 1px solid gray;box-sizing: border-box;top: 0;bottom: 0;left: 50%;z-index: -1;}#sk-container-id-1 div.sk-parallel-item {display: flex;flex-direction: column;z-index: 1;position: relative;background-color: white;}#sk-container-id-1 div.sk-parallel-item:first-child::after {align-self: flex-end;width: 50%;}#sk-container-id-1 div.sk-parallel-item:last-child::after {align-self: flex-start;width: 50%;}#sk-container-id-1 div.sk-parallel-item:only-child::after {width: 0;}#sk-container-id-1 div.sk-dashed-wrapped {border: 1px dashed gray;margin: 0 0.4em 0.5em 0.4em;box-sizing: border-box;padding-bottom: 0.4em;background-color: white;}#sk-container-id-1 div.sk-label label {font-family: monospace;font-weight: bold;display: inline-block;line-height: 1.2em;}#sk-container-id-1 div.sk-label-container {text-align: center;}#sk-container-id-1 div.sk-container {/* jupyter's `normalize.less` sets `[hidden] { display: none; }` but bootstrap.min.css set `[hidden] { display: none !important; }` so we also need the `!important` here to be able to override the default hidden behavior on the sphinx rendered scikit-learn.org. See: https://github.com/scikit-learn/scikit-learn/issues/21755 */display: inline-block !important;position: relative;}#sk-container-id-1 div.sk-text-repr-fallback {display: none;}</style><div id=\"sk-container-id-1\" class=\"sk-top-container\"><div class=\"sk-text-repr-fallback\"><pre>GaussianNB()</pre><b>In a Jupyter environment, please rerun this cell to show the HTML representation or trust the notebook. <br />On GitHub, the HTML representation is unable to render, please try loading this page with nbviewer.org.</b></div><div class=\"sk-container\" hidden><div class=\"sk-item\"><div class=\"sk-estimator sk-toggleable\"><input class=\"sk-toggleable__control sk-hidden--visually\" id=\"sk-estimator-id-1\" type=\"checkbox\" checked><label for=\"sk-estimator-id-1\" class=\"sk-toggleable__label sk-toggleable__label-arrow\">GaussianNB</label><div class=\"sk-toggleable__content\"><pre>GaussianNB()</pre></div></div></div></div></div>"
      ],
      "text/plain": [
       "GaussianNB()"
      ]
     },
     "execution_count": 16,
     "metadata": {},
     "output_type": "execute_result"
    }
   ],
   "source": [
    "# train the Naive Bayes model on the training set\n",
    "\n",
    "nb_classifier = GaussianNB()\n",
    "nb_classifier.fit(X_train_nlp, y_train_nlp)"
   ]
  },
  {
   "cell_type": "markdown",
   "metadata": {},
   "source": [
    "#### Prediction and the model evaluation"
   ]
  },
  {
   "cell_type": "code",
   "execution_count": 17,
   "metadata": {},
   "outputs": [
    {
     "data": {
      "text/html": [
       "<div>\n",
       "<style scoped>\n",
       "    .dataframe tbody tr th:only-of-type {\n",
       "        vertical-align: middle;\n",
       "    }\n",
       "\n",
       "    .dataframe tbody tr th {\n",
       "        vertical-align: top;\n",
       "    }\n",
       "\n",
       "    .dataframe thead th {\n",
       "        text-align: right;\n",
       "    }\n",
       "</style>\n",
       "<table border=\"1\" class=\"dataframe\">\n",
       "  <thead>\n",
       "    <tr style=\"text-align: right;\">\n",
       "      <th></th>\n",
       "      <th>y_val</th>\n",
       "      <th>y_pred</th>\n",
       "    </tr>\n",
       "  </thead>\n",
       "  <tbody>\n",
       "    <tr>\n",
       "      <th>0</th>\n",
       "      <td>normal</td>\n",
       "      <td>normal</td>\n",
       "    </tr>\n",
       "    <tr>\n",
       "      <th>1</th>\n",
       "      <td>normal</td>\n",
       "      <td>normal</td>\n",
       "    </tr>\n",
       "    <tr>\n",
       "      <th>2</th>\n",
       "      <td>normal</td>\n",
       "      <td>normal</td>\n",
       "    </tr>\n",
       "    <tr>\n",
       "      <th>3</th>\n",
       "      <td>normal</td>\n",
       "      <td>normal</td>\n",
       "    </tr>\n",
       "    <tr>\n",
       "      <th>4</th>\n",
       "      <td>normal</td>\n",
       "      <td>normal</td>\n",
       "    </tr>\n",
       "    <tr>\n",
       "      <th>...</th>\n",
       "      <td>...</td>\n",
       "      <td>...</td>\n",
       "    </tr>\n",
       "    <tr>\n",
       "      <th>1012</th>\n",
       "      <td>normal</td>\n",
       "      <td>normal</td>\n",
       "    </tr>\n",
       "    <tr>\n",
       "      <th>1013</th>\n",
       "      <td>normal</td>\n",
       "      <td>normal</td>\n",
       "    </tr>\n",
       "    <tr>\n",
       "      <th>1014</th>\n",
       "      <td>normal</td>\n",
       "      <td>normal</td>\n",
       "    </tr>\n",
       "    <tr>\n",
       "      <th>1015</th>\n",
       "      <td>normal</td>\n",
       "      <td>normal</td>\n",
       "    </tr>\n",
       "    <tr>\n",
       "      <th>1016</th>\n",
       "      <td>normal</td>\n",
       "      <td>normal</td>\n",
       "    </tr>\n",
       "  </tbody>\n",
       "</table>\n",
       "<p>1017 rows × 2 columns</p>\n",
       "</div>"
      ],
      "text/plain": [
       "       y_val  y_pred\n",
       "0     normal  normal\n",
       "1     normal  normal\n",
       "2     normal  normal\n",
       "3     normal  normal\n",
       "4     normal  normal\n",
       "...      ...     ...\n",
       "1012  normal  normal\n",
       "1013  normal  normal\n",
       "1014  normal  normal\n",
       "1015  normal  normal\n",
       "1016  normal  normal\n",
       "\n",
       "[1017 rows x 2 columns]"
      ]
     },
     "execution_count": 17,
     "metadata": {},
     "output_type": "execute_result"
    }
   ],
   "source": [
    "# predict the validation set results\n",
    "\n",
    "y_pred_nlp = nb_classifier.predict(X_val_nlp)\n",
    "\n",
    "result_nlp = {'y_val': y_val_nlp, 'y_pred': y_pred_nlp}\n",
    "df_result_nlp = pd.DataFrame(result_nlp)\n",
    "df_result_nlp"
   ]
  },
  {
   "cell_type": "code",
   "execution_count": 50,
   "metadata": {},
   "outputs": [
    {
     "name": "stdout",
     "output_type": "stream",
     "text": [
      "[[927  17]\n",
      " [  6  67]]\n",
      "accuracy = 0.9773844641101278\n",
      "F1 score = 0.8535031847133758\n",
      "precision = 0.7976190476190477\n",
      "recall = 0.9178082191780822\n"
     ]
    }
   ],
   "source": [
    "# calculate the metrics\n",
    "\n",
    "get_metrics(y_val_nlp, y_pred_nlp, \"pneumonia\")"
   ]
  },
  {
   "cell_type": "markdown",
   "metadata": {},
   "source": [
    "False positive rate equals 17, and the model predicted 'pneumonia' for patients who actually did not have pneumonia.\n",
    "\n",
    "False negative rate equals 6, and the model predicted 'normal' for patients who actually had pneumonia. This is a critical metric for our case that is more important than false positive rate. \n",
    "\n",
    "The F1 score is 0.8535, and expresses the dependency between precision and recall. Precision shows how many patients who were defined with pneumonia actually have pneumonia while recall shows how many patients with pneumonia the model defined."
   ]
  },
  {
   "cell_type": "markdown",
   "metadata": {},
   "source": [
    "### CV"
   ]
  },
  {
   "cell_type": "markdown",
   "metadata": {},
   "source": [
    "#### Preprocessing"
   ]
  },
  {
   "cell_type": "code",
   "execution_count": 19,
   "metadata": {},
   "outputs": [
    {
     "name": "stdout",
     "output_type": "stream",
     "text": [
      "Found 5761 validated image filenames belonging to 2 classes.\n",
      "Found 1017 validated image filenames belonging to 2 classes.\n",
      "Found 1197 validated image filenames belonging to 2 classes.\n"
     ]
    }
   ],
   "source": [
    "# this block was constructed with the tutorial developed by Saurabh Bhardwaj\n",
    "\n",
    "#image_directory = \"images/pneumonia_normal_images\"\n",
    "image_height = 224\n",
    "image_width = 224\n",
    "\n",
    "# Create an ImageDataGenerator for data augmentation and preprocessing\n",
    "datagen = tf.keras.preprocessing.image.ImageDataGenerator(\n",
    "    samplewise_center=True,  # Define your preprocess_image function here\n",
    "    rescale=1.0/255.0,  # Normalize pixel values\n",
    ")\n",
    "\n",
    "# Create TensorFlow generators for training and validation\n",
    "batch_size = 32\n",
    "\n",
    "train_generator = datagen.flow_from_dataframe(\n",
    "    dataframe=train_set,\n",
    "    directory=\"images/pneumonia_normal_images/training_set\",\n",
    "    x_col='ImageID',\n",
    "    y_col='Labels',\n",
    "    target_size=(image_height, image_width),\n",
    "    batch_size=batch_size,\n",
    "    class_mode='binary',\n",
    "    shuffle=True\n",
    ")\n",
    "\n",
    "val_generator = datagen.flow_from_dataframe(\n",
    "    dataframe=val_set,\n",
    "    directory=\"images/pneumonia_normal_images/validation_set\",\n",
    "    x_col='ImageID',\n",
    "    y_col='Labels',\n",
    "    target_size=(image_height, image_width),\n",
    "    batch_size=batch_size,\n",
    "    class_mode='binary',\n",
    "    shuffle=False\n",
    ")\n",
    "\n",
    "test_generator = datagen.flow_from_dataframe(\n",
    "    dataframe=test_set,\n",
    "    directory=\"images/pneumonia_normal_images/test_set\",\n",
    "    x_col='ImageID',\n",
    "    y_col='Labels',\n",
    "    target_size=(image_height, image_width),\n",
    "    batch_size=batch_size,\n",
    "    class_mode='binary',\n",
    "    shuffle=False\n",
    ")"
   ]
  },
  {
   "cell_type": "markdown",
   "metadata": {},
   "source": [
    "#### Model Building"
   ]
  },
  {
   "cell_type": "code",
   "execution_count": 39,
   "metadata": {},
   "outputs": [],
   "source": [
    "# this CNN architecture was originally developed here:\n",
    "# Medical-Image-Classification-using-CNN, pneumonia detection from X-ray images using Convolution Neural Network \n",
    "# https://github.com/sanghvirajit/Medical-Image-Classification-using-CNN/tree/main\n",
    "\n",
    "## CNN Architecture\n",
    "\n",
    "inputs = Input(shape=(image_height, image_width, 3))\n",
    "\n",
    "# First conv block\n",
    "x = Conv2D(filters=16, kernel_size=(3, 3), activation='relu', padding='same')(inputs)\n",
    "x = Conv2D(filters=16, kernel_size=(3, 3), activation='relu', padding='same')(x)\n",
    "x = MaxPool2D(pool_size=(2, 2))(x)\n",
    "\n",
    "# Second conv block\n",
    "x = SeparableConv2D(filters=32, kernel_size=(3, 3), activation='relu', padding='same')(x)\n",
    "x = SeparableConv2D(filters=32, kernel_size=(3, 3), activation='relu', padding='same')(x)\n",
    "x = BatchNormalization()(x)\n",
    "x = MaxPool2D(pool_size=(2, 2))(x)\n",
    "\n",
    "# Third conv block\n",
    "x = SeparableConv2D(filters=64, kernel_size=(3, 3), activation='relu', padding='same')(x)\n",
    "x = SeparableConv2D(filters=64, kernel_size=(3, 3), activation='relu', padding='same')(x)\n",
    "x = BatchNormalization()(x)\n",
    "x = MaxPool2D(pool_size=(2, 2))(x)\n",
    "\n",
    "# Fourth conv block\n",
    "x = SeparableConv2D(filters=128, kernel_size=(3, 3), activation='relu', padding='same')(x)\n",
    "x = SeparableConv2D(filters=128, kernel_size=(3, 3), activation='relu', padding='same')(x)\n",
    "x = BatchNormalization()(x)\n",
    "x = MaxPool2D(pool_size=(2, 2))(x)\n",
    "x = Dropout(rate=0.2)(x)\n",
    "\n",
    "# Fifth conv block\n",
    "x = SeparableConv2D(filters=256, kernel_size=(3, 3), activation='relu', padding='same')(x)\n",
    "x = SeparableConv2D(filters=256, kernel_size=(3, 3), activation='relu', padding='same')(x)\n",
    "x = BatchNormalization()(x)\n",
    "x = MaxPool2D(pool_size=(2, 2))(x)\n",
    "x = Dropout(rate=0.2)(x)\n",
    "\n",
    "# FC layer\n",
    "x = Flatten()(x)\n",
    "x = Dense(units=512, activation='relu')(x)\n",
    "x = Dropout(rate=0.7)(x)\n",
    "x = Dense(units=128, activation='relu')(x)\n",
    "x = Dropout(rate=0.5)(x)\n",
    "x = Dense(units=64, activation='relu')(x)\n",
    "x = Dropout(rate=0.3)(x)\n",
    "\n",
    "# Output layer\n",
    "output = Dense(units=1, activation='sigmoid')(x)\n",
    "\n",
    "# Creating model and compiling\n",
    "model = Model(inputs=inputs, outputs=output)\n",
    "\n",
    "# !!! weighted loss should be put here instead of 'binary_crossentropy' because of class imbalance\n",
    "model.compile(optimizer='adam', loss='binary_crossentropy', metrics=['accuracy'])"
   ]
  },
  {
   "cell_type": "code",
   "execution_count": 40,
   "metadata": {},
   "outputs": [
    {
     "name": "stdout",
     "output_type": "stream",
     "text": [
      "Epoch 1/10\n",
      "181/181 [==============================] - 278s 2s/step - loss: 0.2930 - accuracy: 0.9330 - val_loss: 0.2591 - val_accuracy: 0.9282\n",
      "Epoch 2/10\n",
      "181/181 [==============================] - 273s 2s/step - loss: 0.2628 - accuracy: 0.9363 - val_loss: 0.2709 - val_accuracy: 0.9282\n",
      "Epoch 3/10\n",
      "181/181 [==============================] - 273s 2s/step - loss: 0.2670 - accuracy: 0.9363 - val_loss: 0.2727 - val_accuracy: 0.9282\n",
      "Epoch 4/10\n",
      "181/181 [==============================] - 271s 1s/step - loss: 0.2567 - accuracy: 0.9363 - val_loss: 0.2750 - val_accuracy: 0.9282\n",
      "Epoch 5/10\n",
      "181/181 [==============================] - 271s 1s/step - loss: 0.2550 - accuracy: 0.9363 - val_loss: 0.3318 - val_accuracy: 0.9282\n",
      "Epoch 6/10\n",
      "181/181 [==============================] - 271s 1s/step - loss: 0.2507 - accuracy: 0.9363 - val_loss: 0.2735 - val_accuracy: 0.9282\n",
      "Epoch 7/10\n",
      "181/181 [==============================] - 417s 2s/step - loss: 0.2482 - accuracy: 0.9363 - val_loss: 0.2920 - val_accuracy: 0.9282\n",
      "Epoch 8/10\n",
      "181/181 [==============================] - 417s 2s/step - loss: 0.2483 - accuracy: 0.9363 - val_loss: 0.3156 - val_accuracy: 0.9282\n",
      "Epoch 9/10\n",
      "181/181 [==============================] - 419s 2s/step - loss: 0.2491 - accuracy: 0.9363 - val_loss: 0.2783 - val_accuracy: 0.9282\n",
      "Epoch 10/10\n",
      "181/181 [==============================] - 417s 2s/step - loss: 0.2492 - accuracy: 0.9363 - val_loss: 0.3697 - val_accuracy: 0.9282\n"
     ]
    }
   ],
   "source": [
    "# train the model\n",
    "\n",
    "hist = model.fit(train_generator, epochs=10, validation_data=val_generator)"
   ]
  },
  {
   "cell_type": "code",
   "execution_count": 42,
   "metadata": {},
   "outputs": [
    {
     "name": "stderr",
     "output_type": "stream",
     "text": [
      "WARNING:absl:Found untraced functions such as _jit_compiled_convolution_op, _jit_compiled_convolution_op, _jit_compiled_convolution_op, _jit_compiled_convolution_op, _jit_compiled_convolution_op while saving (showing 5 of 11). These functions will not be directly callable after loading.\n"
     ]
    },
    {
     "name": "stdout",
     "output_type": "stream",
     "text": [
      "INFO:tensorflow:Assets written to: cnn5\\assets\n"
     ]
    },
    {
     "name": "stderr",
     "output_type": "stream",
     "text": [
      "INFO:tensorflow:Assets written to: cnn5\\assets\n"
     ]
    }
   ],
   "source": [
    "# save the model for further investigation\n",
    "\n",
    "model.save('cnn5')"
   ]
  },
  {
   "cell_type": "code",
   "execution_count": 20,
   "metadata": {},
   "outputs": [],
   "source": [
    "# load the saved model\n",
    "\n",
    "cnn5 = tf.keras.models.load_model('cnn5')"
   ]
  },
  {
   "cell_type": "markdown",
   "metadata": {},
   "source": [
    "#### Prediction and the model evaluation"
   ]
  },
  {
   "cell_type": "code",
   "execution_count": 44,
   "metadata": {},
   "outputs": [
    {
     "data": {
      "image/png": "[encoded data removed]",
      "text/plain": [
       "<Figure size 1000x500 with 2 Axes>"
      ]
     },
     "metadata": {},
     "output_type": "display_data"
    }
   ],
   "source": [
    "# plot accuracy and loss through epochs\n",
    "\n",
    "fig, ax = plt.subplots(1, 2, figsize=(10, 5))\n",
    "ax = ax.ravel()\n",
    "\n",
    "for i, met in enumerate(['accuracy', 'loss']):\n",
    "    ax[i].plot(hist.history[met])\n",
    "    ax[i].plot(hist.history['val_' + met])\n",
    "    \n",
    "    ax[i].set_title('Model {}'.format(met))\n",
    "    \n",
    "    ax[i].set_xlabel('epochs')\n",
    "    ax[i].set_ylabel(met)\n",
    "    \n",
    "    ax[i].legend(['train', 'val'])"
   ]
  },
  {
   "cell_type": "markdown",
   "metadata": {},
   "source": [
    "Validation loss increases through epochs that could mean overfitting."
   ]
  },
  {
   "cell_type": "code",
   "execution_count": 21,
   "metadata": {},
   "outputs": [
    {
     "name": "stderr",
     "output_type": "stream",
     "text": [
      "C:\\Users\\Kseniya\\AppData\\Local\\Temp\\ipykernel_1716\\3984535976.py:1: UserWarning: `Model.predict_generator` is deprecated and will be removed in a future version. Please use `Model.predict`, which supports generators.\n",
      "  predicted_vals = cnn5.predict_generator(val_generator, steps = len(val_generator))\n"
     ]
    },
    {
     "data": {
      "text/plain": [
       "array([[0.00629288],\n",
       "       [0.00616344],\n",
       "       [0.00620866],\n",
       "       ...,\n",
       "       [0.00642008],\n",
       "       [0.00629423],\n",
       "       [0.00630697]], dtype=float32)"
      ]
     },
     "execution_count": 21,
     "metadata": {},
     "output_type": "execute_result"
    }
   ],
   "source": [
    "# predict the validation set results\n",
    "\n",
    "predicted_vals = cnn5.predict_generator(val_generator, steps = len(val_generator))\n",
    "predicted_vals "
   ]
  },
  {
   "cell_type": "code",
   "execution_count": 22,
   "metadata": {},
   "outputs": [
    {
     "data": {
      "text/plain": [
       "array([['normal'],\n",
       "       ['normal'],\n",
       "       ['normal'],\n",
       "       ...,\n",
       "       ['normal'],\n",
       "       ['normal'],\n",
       "       ['normal']], dtype='<U9')"
      ]
     },
     "execution_count": 22,
     "metadata": {},
     "output_type": "execute_result"
    }
   ],
   "source": [
    "y_pred_cv = np.where(predicted_vals > 0.5, 'pneumonia', 'normal')\n",
    "y_pred_cv"
   ]
  },
  {
   "cell_type": "code",
   "execution_count": 23,
   "metadata": {},
   "outputs": [
    {
     "data": {
      "text/plain": [
       "array([['normal'],\n",
       "       ['normal'],\n",
       "       ['normal'],\n",
       "       ...,\n",
       "       ['normal'],\n",
       "       ['normal'],\n",
       "       ['normal']], dtype=object)"
      ]
     },
     "execution_count": 23,
     "metadata": {},
     "output_type": "execute_result"
    }
   ],
   "source": [
    "y_val_cv = val_set['Labels'].values.reshape(-1,1)\n",
    "y_val_cv"
   ]
  },
  {
   "cell_type": "code",
   "execution_count": 52,
   "metadata": {},
   "outputs": [
    {
     "name": "stdout",
     "output_type": "stream",
     "text": [
      "[[944   0]\n",
      " [ 73   0]]\n",
      "accuracy = 0.928220255653884\n",
      "F1 score = 0.0\n",
      "precision = 0.0\n",
      "recall = 0.0\n"
     ]
    },
    {
     "name": "stderr",
     "output_type": "stream",
     "text": [
      "C:\\Users\\Kseniya\\anaconda3\\lib\\site-packages\\sklearn\\metrics\\_classification.py:1344: UndefinedMetricWarning: Precision is ill-defined and being set to 0.0 due to no predicted samples. Use `zero_division` parameter to control this behavior.\n",
      "  _warn_prf(average, modifier, msg_start, len(result))\n"
     ]
    }
   ],
   "source": [
    "# calculate the metrics\n",
    "\n",
    "get_metrics(y_val_cv, y_pred_cv, \"pneumonia\")"
   ]
  },
  {
   "cell_type": "markdown",
   "metadata": {},
   "source": [
    "False positive rate equals 0, and the model did not predict 'pneumonia' for patients who actually did not have pneumonia.\n",
    "\n",
    "False negative rate equals 73, and the model predicted 'normal' for patients who actually had pneumonia. This is a critical metric for our case that is more important than false positive rate.\n",
    "\n",
    "The results are weird, and require more explanation of the model behavior."
   ]
  },
  {
   "cell_type": "markdown",
   "metadata": {},
   "source": [
    "### Multimodal, Late Fusion"
   ]
  },
  {
   "cell_type": "code",
   "execution_count": 26,
   "metadata": {},
   "outputs": [],
   "source": [
    "# Obtain individual predictions\n",
    "\n",
    "text_predictions = y_pred_nlp\n",
    "image_predictions = y_pred_cv"
   ]
  },
  {
   "cell_type": "code",
   "execution_count": 59,
   "metadata": {},
   "outputs": [
    {
     "data": {
      "text/plain": [
       "array([['normal'],\n",
       "       ['normal'],\n",
       "       ['normal'],\n",
       "       ...,\n",
       "       ['normal'],\n",
       "       ['normal'],\n",
       "       ['normal']], dtype=object)"
      ]
     },
     "execution_count": 59,
     "metadata": {},
     "output_type": "execute_result"
    }
   ],
   "source": [
    "# y_val\n",
    "\n",
    "Y = val_set['Labels'].values.reshape(-1,1)\n",
    "Y"
   ]
  },
  {
   "cell_type": "code",
   "execution_count": null,
   "metadata": {},
   "outputs": [],
   "source": [
    "# Use a classifier for fusion\n",
    "\n",
    "fusion_classifier = RandomForestClassifier()"
   ]
  },
  {
   "cell_type": "code",
   "execution_count": null,
   "metadata": {},
   "outputs": [],
   "source": [
    "# fusion classifier requires numeric values instead of text\n",
    "# therefore we transform the values by LabelEncoder\n",
    "\n",
    "le = LabelEncoder()"
   ]
  },
  {
   "cell_type": "code",
   "execution_count": 38,
   "metadata": {},
   "outputs": [
    {
     "name": "stderr",
     "output_type": "stream",
     "text": [
      "C:\\Users\\Kseniya\\anaconda3\\lib\\site-packages\\sklearn\\preprocessing\\_label.py:116: DataConversionWarning: A column-vector y was passed when a 1d array was expected. Please change the shape of y to (n_samples, ), for example using ravel().\n",
      "  y = column_or_1d(y, warn=True)\n"
     ]
    },
    {
     "data": {
      "text/plain": [
       "array([[0, 0],\n",
       "       [0, 0],\n",
       "       [0, 0],\n",
       "       ...,\n",
       "       [0, 0],\n",
       "       [0, 0],\n",
       "       [0, 0]], dtype=int64)"
      ]
     },
     "execution_count": 38,
     "metadata": {},
     "output_type": "execute_result"
    }
   ],
   "source": [
    "# Stack predictions for late fusion\n",
    "\n",
    "stacked_predictions = np.column_stack((le.fit_transform(text_predictions), le.fit_transform(image_predictions)))\n",
    "stacked_predictions"
   ]
  },
  {
   "cell_type": "code",
   "execution_count": 60,
   "metadata": {},
   "outputs": [
    {
     "name": "stderr",
     "output_type": "stream",
     "text": [
      "C:\\Users\\Kseniya\\anaconda3\\lib\\site-packages\\sklearn\\preprocessing\\_label.py:116: DataConversionWarning: A column-vector y was passed when a 1d array was expected. Please change the shape of y to (n_samples, ), for example using ravel().\n",
      "  y = column_or_1d(y, warn=True)\n"
     ]
    },
    {
     "data": {
      "text/plain": [
       "array([[0],\n",
       "       [0],\n",
       "       [0],\n",
       "       ...,\n",
       "       [0],\n",
       "       [0],\n",
       "       [0]])"
      ]
     },
     "execution_count": 60,
     "metadata": {},
     "output_type": "execute_result"
    }
   ],
   "source": [
    "Y = le.fit_transform(Y).reshape(-1,1)\n",
    "Y"
   ]
  },
  {
   "cell_type": "code",
   "execution_count": 56,
   "metadata": {},
   "outputs": [
    {
     "name": "stderr",
     "output_type": "stream",
     "text": [
      "C:\\Users\\Kseniya\\AppData\\Local\\Temp\\ipykernel_1716\\3650731106.py:1: DataConversionWarning: A column-vector y was passed when a 1d array was expected. Please change the shape of y to (n_samples,), for example using ravel().\n",
      "  fusion_classifier.fit(stacked_predictions, Y) # Y is the target label\n"
     ]
    },
    {
     "data": {
      "text/html": [
       "<style>#sk-container-id-3 {color: black;background-color: white;}#sk-container-id-3 pre{padding: 0;}#sk-container-id-3 div.sk-toggleable {background-color: white;}#sk-container-id-3 label.sk-toggleable__label {cursor: pointer;display: block;width: 100%;margin-bottom: 0;padding: 0.3em;box-sizing: border-box;text-align: center;}#sk-container-id-3 label.sk-toggleable__label-arrow:before {content: \"▸\";float: left;margin-right: 0.25em;color: #696969;}#sk-container-id-3 label.sk-toggleable__label-arrow:hover:before {color: black;}#sk-container-id-3 div.sk-estimator:hover label.sk-toggleable__label-arrow:before {color: black;}#sk-container-id-3 div.sk-toggleable__content {max-height: 0;max-width: 0;overflow: hidden;text-align: left;background-color: #f0f8ff;}#sk-container-id-3 div.sk-toggleable__content pre {margin: 0.2em;color: black;border-radius: 0.25em;background-color: #f0f8ff;}#sk-container-id-3 input.sk-toggleable__control:checked~div.sk-toggleable__content {max-height: 200px;max-width: 100%;overflow: auto;}#sk-container-id-3 input.sk-toggleable__control:checked~label.sk-toggleable__label-arrow:before {content: \"▾\";}#sk-container-id-3 div.sk-estimator input.sk-toggleable__control:checked~label.sk-toggleable__label {background-color: #d4ebff;}#sk-container-id-3 div.sk-label input.sk-toggleable__control:checked~label.sk-toggleable__label {background-color: #d4ebff;}#sk-container-id-3 input.sk-hidden--visually {border: 0;clip: rect(1px 1px 1px 1px);clip: rect(1px, 1px, 1px, 1px);height: 1px;margin: -1px;overflow: hidden;padding: 0;position: absolute;width: 1px;}#sk-container-id-3 div.sk-estimator {font-family: monospace;background-color: #f0f8ff;border: 1px dotted black;border-radius: 0.25em;box-sizing: border-box;margin-bottom: 0.5em;}#sk-container-id-3 div.sk-estimator:hover {background-color: #d4ebff;}#sk-container-id-3 div.sk-parallel-item::after {content: \"\";width: 100%;border-bottom: 1px solid gray;flex-grow: 1;}#sk-container-id-3 div.sk-label:hover label.sk-toggleable__label {background-color: #d4ebff;}#sk-container-id-3 div.sk-serial::before {content: \"\";position: absolute;border-left: 1px solid gray;box-sizing: border-box;top: 0;bottom: 0;left: 50%;z-index: 0;}#sk-container-id-3 div.sk-serial {display: flex;flex-direction: column;align-items: center;background-color: white;padding-right: 0.2em;padding-left: 0.2em;position: relative;}#sk-container-id-3 div.sk-item {position: relative;z-index: 1;}#sk-container-id-3 div.sk-parallel {display: flex;align-items: stretch;justify-content: center;background-color: white;position: relative;}#sk-container-id-3 div.sk-item::before, #sk-container-id-3 div.sk-parallel-item::before {content: \"\";position: absolute;border-left: 1px solid gray;box-sizing: border-box;top: 0;bottom: 0;left: 50%;z-index: -1;}#sk-container-id-3 div.sk-parallel-item {display: flex;flex-direction: column;z-index: 1;position: relative;background-color: white;}#sk-container-id-3 div.sk-parallel-item:first-child::after {align-self: flex-end;width: 50%;}#sk-container-id-3 div.sk-parallel-item:last-child::after {align-self: flex-start;width: 50%;}#sk-container-id-3 div.sk-parallel-item:only-child::after {width: 0;}#sk-container-id-3 div.sk-dashed-wrapped {border: 1px dashed gray;margin: 0 0.4em 0.5em 0.4em;box-sizing: border-box;padding-bottom: 0.4em;background-color: white;}#sk-container-id-3 div.sk-label label {font-family: monospace;font-weight: bold;display: inline-block;line-height: 1.2em;}#sk-container-id-3 div.sk-label-container {text-align: center;}#sk-container-id-3 div.sk-container {/* jupyter's `normalize.less` sets `[hidden] { display: none; }` but bootstrap.min.css set `[hidden] { display: none !important; }` so we also need the `!important` here to be able to override the default hidden behavior on the sphinx rendered scikit-learn.org. See: https://github.com/scikit-learn/scikit-learn/issues/21755 */display: inline-block !important;position: relative;}#sk-container-id-3 div.sk-text-repr-fallback {display: none;}</style><div id=\"sk-container-id-3\" class=\"sk-top-container\"><div class=\"sk-text-repr-fallback\"><pre>RandomForestClassifier()</pre><b>In a Jupyter environment, please rerun this cell to show the HTML representation or trust the notebook. <br />On GitHub, the HTML representation is unable to render, please try loading this page with nbviewer.org.</b></div><div class=\"sk-container\" hidden><div class=\"sk-item\"><div class=\"sk-estimator sk-toggleable\"><input class=\"sk-toggleable__control sk-hidden--visually\" id=\"sk-estimator-id-3\" type=\"checkbox\" checked><label for=\"sk-estimator-id-3\" class=\"sk-toggleable__label sk-toggleable__label-arrow\">RandomForestClassifier</label><div class=\"sk-toggleable__content\"><pre>RandomForestClassifier()</pre></div></div></div></div></div>"
      ],
      "text/plain": [
       "RandomForestClassifier()"
      ]
     },
     "execution_count": 56,
     "metadata": {},
     "output_type": "execute_result"
    }
   ],
   "source": [
    "# train the fusion classifier\n",
    "\n",
    "fusion_classifier.fit(stacked_predictions, Y) # Y is the target label"
   ]
  },
  {
   "cell_type": "code",
   "execution_count": 61,
   "metadata": {},
   "outputs": [],
   "source": [
    "# predict the validation set results\n",
    "\n",
    "final_predictions = fusion_classifier.predict(stacked_predictions)"
   ]
  },
  {
   "cell_type": "code",
   "execution_count": 62,
   "metadata": {},
   "outputs": [
    {
     "name": "stdout",
     "output_type": "stream",
     "text": [
      "[[927  17]\n",
      " [  6  67]]\n",
      "accuracy = 0.9773844641101278\n",
      "F1 score = 0.8535031847133758\n",
      "precision = 0.7976190476190477\n",
      "recall = 0.9178082191780822\n"
     ]
    }
   ],
   "source": [
    "# calculate the metrics\n",
    "\n",
    "get_metrics(Y, final_predictions, 1)"
   ]
  },
  {
   "cell_type": "markdown",
   "metadata": {},
   "source": [
    "The metrics values repeat the nlp model results. It seems that the fusion part selected the best result between two models - nlp and computer vision."
   ]
  }
 ],
 "metadata": {
  "colab": {
   "authorship_tag": "ABX9TyPPW668rnlrYAJ1Uy8C2fVg",
   "provenance": []
  },
  "kernelspec": {
   "display_name": "Python 3 (ipykernel)",
   "language": "python",
   "name": "python3"
  },
  "language_info": {
   "codemirror_mode": {
    "name": "ipython",
    "version": 3
   },
   "file_extension": ".py",
   "mimetype": "text/x-python",
   "name": "python",
   "nbconvert_exporter": "python",
   "pygments_lexer": "ipython3",
   "version": "3.8.16"
  }
 },
 "nbformat": 4,
 "nbformat_minor": 1
}
