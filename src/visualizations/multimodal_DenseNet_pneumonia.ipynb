{
  "nbformat": 4,
  "nbformat_minor": 0,
  "metadata": {
    "colab": {
      "provenance": [],
      "gpuType": "T4"
    },
    "kernelspec": {
      "name": "python3",
      "display_name": "Python 3"
    },
    "language_info": {
      "name": "python"
    },
    "accelerator": "GPU"
  },
  "cells": [
    {
      "cell_type": "code",
      "execution_count": null,
      "metadata": {
        "id": "eSvec1wsec_f"
      },
      "outputs": [],
      "source": [
        "import os\n",
        "import pandas as pd\n",
        "import numpy as np\n",
        "np.random.seed(42)\n",
        "import matplotlib.pyplot as plt\n",
        "\n",
        "from PIL import Image\n",
        "import cv2\n",
        "import imageio\n",
        "import random\n",
        "from collections import Counter\n",
        "\n",
        "from sklearn.metrics import accuracy_score, recall_score, precision_score, confusion_matrix, f1_score\n",
        "from sklearn.utils import class_weight"
      ]
    },
    {
      "cell_type": "code",
      "source": [
        "import tensorflow as tf\n",
        "tf.random.set_seed(42)\n",
        "import keras\n",
        "\n",
        "from keras.models import Model\n",
        "from keras.models import Sequential\n",
        "from keras.layers import Input, Dropout, Dense, Flatten, MaxPooling2D, Conv2D\n",
        "from keras.layers import GlobalAveragePooling2D, AveragePooling2D, BatchNormalization\n",
        "from keras.optimizers import Adam\n",
        "from keras.metrics import BinaryCrossentropy\n",
        "\n",
        "from keras.preprocessing.image import ImageDataGenerator\n",
        "\n",
        "from keras.applications.densenet import DenseNet121"
      ],
      "metadata": {
        "id": "bX4f5epsenPL"
      },
      "execution_count": null,
      "outputs": []
    },
    {
      "cell_type": "markdown",
      "source": [
        "## DenseNet"
      ],
      "metadata": {
        "id": "H_tGMDQ7ewwV"
      }
    },
    {
      "cell_type": "code",
      "source": [
        "image_generator = ImageDataGenerator(rescale=1./255)\n",
        "\n",
        "train_folder = '/content/drive/MyDrive/Omdena_multimodal/forLucyOmdena/pneumonia_selected/train'\n",
        "valid_folder = '/content/drive/MyDrive/Omdena_multimodal/forLucyOmdena/pneumonia_selected/valid'\n",
        "\n",
        "TARGET_SIZE = (224, 224)\n",
        "BATCH_SIZE = 16\n",
        "IMAGE_SIZE = 224\n",
        "\n",
        "train_generator = image_generator.flow_from_directory(train_folder,\n",
        "                                                      batch_size=BATCH_SIZE,\n",
        "                                                      shuffle=True,\n",
        "                                                      class_mode='binary',\n",
        "                                                      color_mode = 'rgb',\n",
        "                                                      target_size=TARGET_SIZE,\n",
        "                                                      seed=42)\n",
        "\n",
        "valid_generator = image_generator.flow_from_directory(valid_folder,\n",
        "                                                    target_size=TARGET_SIZE,\n",
        "                                                    batch_size = BATCH_SIZE,\n",
        "                                                    color_mode = 'rgb',\n",
        "                                                    shuffle=False,\n",
        "                                                    class_mode = 'binary',\n",
        "                                                    seed=42)\n",
        "\n",
        "STEP_SIZE_TRAIN = train_generator.n // train_generator.batch_size\n",
        "STEP_SIZE_VALID = valid_generator.n // valid_generator.batch_size"
      ],
      "metadata": {
        "colab": {
          "base_uri": "https://localhost:8080/"
        },
        "id": "HjXRLJG9es8z",
        "outputId": "49f6c27a-be82-4792-a0ad-a9de780610d3"
      },
      "execution_count": null,
      "outputs": [
        {
          "output_type": "stream",
          "name": "stdout",
          "text": [
            "Found 949 images belonging to 2 classes.\n",
            "Found 286 images belonging to 2 classes.\n"
          ]
        }
      ]
    },
    {
      "cell_type": "code",
      "source": [
        "train_classes = train_generator.classes\n",
        "class_weights = class_weight.compute_class_weight(\n",
        "                                        class_weight = \"balanced\",\n",
        "                                        classes = np.unique(train_classes),\n",
        "                                        y = train_classes\n",
        "                                    )\n",
        "class_weights = dict(zip(np.unique(train_classes), class_weights))\n",
        "class_weights"
      ],
      "metadata": {
        "colab": {
          "base_uri": "https://localhost:8080/"
        },
        "id": "1RCKJ0MsfHR0",
        "outputId": "93065de1-e949-4cb0-ab34-d7277a0c23dc"
      },
      "execution_count": null,
      "outputs": [
        {
          "output_type": "execute_result",
          "data": {
            "text/plain": [
              "{0: 0.7579872204472844, 1: 1.4690402476780187}"
            ]
          },
          "metadata": {},
          "execution_count": 4
        }
      ]
    },
    {
      "cell_type": "code",
      "source": [
        "# create model\n",
        "def DenseNet121_Model():\n",
        "    baseModel = DenseNet121(weights='imagenet', include_top=False, input_tensor= tf.keras.layers.Input(shape=(224, 224, 3)))\n",
        "    x = baseModel.output\n",
        "    x = AveragePooling2D(pool_size=(2, 2))(x)\n",
        "    x = Flatten(name=\"flatten\")(x)\n",
        "    x = Dense(256, activation=\"relu\")(x)\n",
        "    x = Dropout(0.3)(x)\n",
        "    x = Dense(1, activation=\"sigmoid\")(x)\n",
        "    model = Model(inputs=baseModel.input, outputs=x)\n",
        "    # loop over all layers in the base model and freeze them so they will not be updated during the first training process\n",
        "    for layer in baseModel.layers:\n",
        "        layer.trainable = False\n",
        "    return model\n",
        "\n",
        "model = DenseNet121_Model()"
      ],
      "metadata": {
        "colab": {
          "base_uri": "https://localhost:8080/"
        },
        "id": "K3u4R5Tqf0Zo",
        "outputId": "a3c8052c-5cbd-4ce2-a156-d5261f3f5ba9"
      },
      "execution_count": null,
      "outputs": [
        {
          "output_type": "stream",
          "name": "stdout",
          "text": [
            "Downloading data from https://storage.googleapis.com/tensorflow/keras-applications/densenet/densenet121_weights_tf_dim_ordering_tf_kernels_notop.h5\n",
            "29084464/29084464 [==============================] - 2s 0us/step\n"
          ]
        }
      ]
    },
    {
      "cell_type": "code",
      "source": [
        "INIT_LR = 0.001\n",
        "EPOCHS = 30\n",
        "\n",
        "\n",
        "# compile model\n",
        "model.compile(loss = 'binary_crossentropy',\n",
        "              optimizer = Adam(learning_rate=INIT_LR, decay=INIT_LR / EPOCHS),\n",
        "              metrics = ['accuracy'])"
      ],
      "metadata": {
        "id": "RBp59hSTgIbV"
      },
      "execution_count": null,
      "outputs": []
    },
    {
      "cell_type": "code",
      "source": [
        "# train model\n",
        "r = model.fit(train_generator,\n",
        "                    steps_per_epoch = STEP_SIZE_TRAIN,\n",
        "                    validation_data = valid_generator,\n",
        "                    validation_steps = STEP_SIZE_VALID,\n",
        "                    epochs = EPOCHS,\n",
        "                    class_weight = class_weights)"
      ],
      "metadata": {
        "colab": {
          "base_uri": "https://localhost:8080/"
        },
        "id": "V2yaY_NAgQO3",
        "outputId": "1e963c3f-731c-4ed2-9948-9639e65df322"
      },
      "execution_count": null,
      "outputs": [
        {
          "output_type": "stream",
          "name": "stdout",
          "text": [
            "Epoch 1/30\n",
            "59/59 [==============================] - 721s 12s/step - loss: 1.1839 - accuracy: 0.6581 - val_loss: 0.4952 - val_accuracy: 0.7610\n",
            "Epoch 2/30\n",
            "59/59 [==============================] - 7s 120ms/step - loss: 0.5160 - accuracy: 0.7749 - val_loss: 0.4778 - val_accuracy: 0.7904\n",
            "Epoch 3/30\n",
            "59/59 [==============================] - 6s 102ms/step - loss: 0.4562 - accuracy: 0.8114 - val_loss: 0.5376 - val_accuracy: 0.7647\n",
            "Epoch 4/30\n",
            "59/59 [==============================] - 8s 136ms/step - loss: 0.4480 - accuracy: 0.7996 - val_loss: 0.4943 - val_accuracy: 0.7757\n",
            "Epoch 5/30\n",
            "59/59 [==============================] - 7s 117ms/step - loss: 0.4312 - accuracy: 0.8124 - val_loss: 0.4954 - val_accuracy: 0.7757\n",
            "Epoch 6/30\n",
            "59/59 [==============================] - 7s 124ms/step - loss: 0.3782 - accuracy: 0.8371 - val_loss: 0.4787 - val_accuracy: 0.7757\n",
            "Epoch 7/30\n",
            "59/59 [==============================] - 8s 131ms/step - loss: 0.3620 - accuracy: 0.8435 - val_loss: 0.4945 - val_accuracy: 0.7978\n",
            "Epoch 8/30\n",
            "59/59 [==============================] - 6s 102ms/step - loss: 0.3190 - accuracy: 0.8800 - val_loss: 0.5373 - val_accuracy: 0.7353\n",
            "Epoch 9/30\n",
            "59/59 [==============================] - 7s 123ms/step - loss: 0.3051 - accuracy: 0.8800 - val_loss: 0.5117 - val_accuracy: 0.8088\n",
            "Epoch 10/30\n",
            "59/59 [==============================] - 8s 137ms/step - loss: 0.2877 - accuracy: 0.8832 - val_loss: 0.4835 - val_accuracy: 0.7721\n",
            "Epoch 11/30\n",
            "59/59 [==============================] - 6s 101ms/step - loss: 0.2742 - accuracy: 0.8982 - val_loss: 0.5134 - val_accuracy: 0.7831\n",
            "Epoch 12/30\n",
            "59/59 [==============================] - 7s 124ms/step - loss: 0.2725 - accuracy: 0.8853 - val_loss: 0.5443 - val_accuracy: 0.7868\n",
            "Epoch 13/30\n",
            "59/59 [==============================] - 7s 120ms/step - loss: 0.2282 - accuracy: 0.9164 - val_loss: 0.6468 - val_accuracy: 0.7243\n",
            "Epoch 14/30\n",
            "59/59 [==============================] - 7s 124ms/step - loss: 0.2190 - accuracy: 0.9078 - val_loss: 0.5769 - val_accuracy: 0.7684\n",
            "Epoch 15/30\n",
            "59/59 [==============================] - 6s 103ms/step - loss: 0.1962 - accuracy: 0.9335 - val_loss: 0.6268 - val_accuracy: 0.7279\n",
            "Epoch 16/30\n",
            "59/59 [==============================] - 6s 104ms/step - loss: 0.1776 - accuracy: 0.9357 - val_loss: 0.6102 - val_accuracy: 0.7721\n",
            "Epoch 17/30\n",
            "59/59 [==============================] - 8s 139ms/step - loss: 0.1624 - accuracy: 0.9368 - val_loss: 0.6360 - val_accuracy: 0.7500\n",
            "Epoch 18/30\n",
            "59/59 [==============================] - 7s 125ms/step - loss: 0.1640 - accuracy: 0.9389 - val_loss: 0.6779 - val_accuracy: 0.7978\n",
            "Epoch 19/30\n",
            "59/59 [==============================] - 7s 122ms/step - loss: 0.1310 - accuracy: 0.9507 - val_loss: 0.6666 - val_accuracy: 0.7426\n",
            "Epoch 20/30\n",
            "59/59 [==============================] - 7s 112ms/step - loss: 0.1596 - accuracy: 0.9368 - val_loss: 0.6459 - val_accuracy: 0.7316\n",
            "Epoch 21/30\n",
            "59/59 [==============================] - 6s 100ms/step - loss: 0.1380 - accuracy: 0.9475 - val_loss: 0.7548 - val_accuracy: 0.8125\n",
            "Epoch 22/30\n",
            "59/59 [==============================] - 8s 138ms/step - loss: 0.1202 - accuracy: 0.9593 - val_loss: 0.7968 - val_accuracy: 0.7169\n",
            "Epoch 23/30\n",
            "59/59 [==============================] - 6s 102ms/step - loss: 0.1155 - accuracy: 0.9561 - val_loss: 0.8004 - val_accuracy: 0.7610\n",
            "Epoch 24/30\n",
            "59/59 [==============================] - 7s 117ms/step - loss: 0.1149 - accuracy: 0.9486 - val_loss: 0.8526 - val_accuracy: 0.7757\n",
            "Epoch 25/30\n",
            "59/59 [==============================] - 7s 112ms/step - loss: 0.1164 - accuracy: 0.9614 - val_loss: 0.8312 - val_accuracy: 0.7206\n",
            "Epoch 26/30\n",
            "59/59 [==============================] - 8s 127ms/step - loss: 0.1272 - accuracy: 0.9496 - val_loss: 0.7636 - val_accuracy: 0.7831\n",
            "Epoch 27/30\n",
            "59/59 [==============================] - 8s 130ms/step - loss: 0.0907 - accuracy: 0.9668 - val_loss: 0.7891 - val_accuracy: 0.7684\n",
            "Epoch 28/30\n",
            "59/59 [==============================] - 6s 103ms/step - loss: 0.0982 - accuracy: 0.9657 - val_loss: 0.9279 - val_accuracy: 0.8051\n",
            "Epoch 29/30\n",
            "59/59 [==============================] - 7s 122ms/step - loss: 0.1344 - accuracy: 0.9528 - val_loss: 0.8562 - val_accuracy: 0.7463\n",
            "Epoch 30/30\n",
            "59/59 [==============================] - 8s 139ms/step - loss: 0.0864 - accuracy: 0.9711 - val_loss: 0.9341 - val_accuracy: 0.7941\n"
          ]
        }
      ]
    },
    {
      "cell_type": "code",
      "source": [
        "plt.plot(r.history[\"loss\"], label=\"loss\")\n",
        "plt.plot(r.history[\"val_loss\"], label=\"val_loss\")\n",
        "plt.legend()"
      ],
      "metadata": {
        "colab": {
          "base_uri": "https://localhost:8080/",
          "height": 447
        },
        "id": "ougf3ec3gjVZ",
        "outputId": "10552327-ef7c-4d48-caeb-542fda162b51"
      },
      "execution_count": null,
      "outputs": [
        {
          "output_type": "execute_result",
          "data": {
            "text/plain": [
              "<matplotlib.legend.Legend at 0x7ff674d00bb0>"
            ]
          },
          "metadata": {},
          "execution_count": 8
        },
        {
          "output_type": "display_data",
          "data": {
            "text/plain": [
              "<Figure size 640x480 with 1 Axes>"
            ],
            "image/png": "[encoded data removed]"
          },
          "metadata": {}
        }
      ]
    },
    {
      "cell_type": "code",
      "source": [
        "plt.plot(r.history[\"accuracy\"], label=\"accuracy\")\n",
        "plt.plot(r.history[\"val_accuracy\"], label=\"val_accuracy\")\n",
        "plt.legend()"
      ],
      "metadata": {
        "colab": {
          "base_uri": "https://localhost:8080/",
          "height": 447
        },
        "id": "iZBcdhNDgkh9",
        "outputId": "17b82be3-873e-4999-d973-4af8287cb4d5"
      },
      "execution_count": null,
      "outputs": [
        {
          "output_type": "execute_result",
          "data": {
            "text/plain": [
              "<matplotlib.legend.Legend at 0x7ff5f41f71c0>"
            ]
          },
          "metadata": {},
          "execution_count": 9
        },
        {
          "output_type": "display_data",
          "data": {
            "text/plain": [
              "<Figure size 640x480 with 1 Axes>"
            ],
            "image/png": "[encoded data removed]"
          },
          "metadata": {}
        }
      ]
    },
    {
      "cell_type": "markdown",
      "source": [
        "## Testing the model"
      ],
      "metadata": {
        "id": "_ciovv1cmWny"
      }
    },
    {
      "cell_type": "code",
      "source": [
        "test_folder = '/content/drive/MyDrive/Omdena_multimodal/forLucyOmdena/pneumonia_selected/test'"
      ],
      "metadata": {
        "id": "9j2g45-wmIt6"
      },
      "execution_count": null,
      "outputs": []
    },
    {
      "cell_type": "code",
      "source": [
        "test_generator = image_generator.flow_from_directory(test_folder,\n",
        "                                                    target_size=TARGET_SIZE,\n",
        "                                                    batch_size = 1,\n",
        "                                                    color_mode = 'rgb',\n",
        "                                                    shuffle=False,\n",
        "                                                    class_mode = 'binary')"
      ],
      "metadata": {
        "colab": {
          "base_uri": "https://localhost:8080/"
        },
        "id": "iIyl1AkMmbrU",
        "outputId": "b3b61390-0412-4a39-d369-40a0ca218d03"
      },
      "execution_count": null,
      "outputs": [
        {
          "output_type": "stream",
          "name": "stdout",
          "text": [
            "Found 286 images belonging to 2 classes.\n"
          ]
        }
      ]
    },
    {
      "cell_type": "code",
      "source": [
        "filenames = test_generator.filenames\n",
        "nb_samples = len(filenames)\n",
        "\n",
        "preds = model.predict_generator(test_generator,steps = nb_samples)"
      ],
      "metadata": {
        "colab": {
          "base_uri": "https://localhost:8080/"
        },
        "id": "6aDrM1p_mfH6",
        "outputId": "06efe3cc-aacb-407f-a2d7-4a746257a472"
      },
      "execution_count": null,
      "outputs": [
        {
          "output_type": "stream",
          "name": "stderr",
          "text": [
            "<ipython-input-12-adfd4077dec3>:4: UserWarning: `Model.predict_generator` is deprecated and will be removed in a future version. Please use `Model.predict`, which supports generators.\n",
            "  preds = model.predict_generator(test_generator,steps = nb_samples)\n"
          ]
        }
      ]
    },
    {
      "cell_type": "code",
      "source": [
        "y_pred = np.round(preds)"
      ],
      "metadata": {
        "id": "ueFNNeohmvJl"
      },
      "execution_count": null,
      "outputs": []
    },
    {
      "cell_type": "code",
      "source": [
        "np.max(y_pred)"
      ],
      "metadata": {
        "colab": {
          "base_uri": "https://localhost:8080/"
        },
        "id": "TKOmT1ZNm4Eo",
        "outputId": "96ceb5a9-570b-425a-b087-e16c0d736c8d"
      },
      "execution_count": null,
      "outputs": [
        {
          "output_type": "execute_result",
          "data": {
            "text/plain": [
              "1.0"
            ]
          },
          "metadata": {},
          "execution_count": 14
        }
      ]
    },
    {
      "cell_type": "code",
      "source": [
        "y_true = test_generator.classes"
      ],
      "metadata": {
        "id": "u-8ioP-nm7Xj"
      },
      "execution_count": null,
      "outputs": []
    },
    {
      "cell_type": "code",
      "source": [
        "cm = confusion_matrix(y_true, y_pred)\n",
        "cm"
      ],
      "metadata": {
        "colab": {
          "base_uri": "https://localhost:8080/"
        },
        "id": "GpUZ0vnfnB-z",
        "outputId": "e243b8ec-48ba-4ae4-c77c-f706dc43acc4"
      },
      "execution_count": null,
      "outputs": [
        {
          "output_type": "execute_result",
          "data": {
            "text/plain": [
              "array([[172,  14],\n",
              "       [ 45,  55]])"
            ]
          },
          "metadata": {},
          "execution_count": 16
        }
      ]
    },
    {
      "cell_type": "code",
      "source": [
        "accuracy = accuracy_score(y_true, y_pred)\n",
        "print(\"Test Accuracy:\", accuracy)"
      ],
      "metadata": {
        "colab": {
          "base_uri": "https://localhost:8080/"
        },
        "id": "TYKtiaGsnGiw",
        "outputId": "ce361568-f79e-4af3-d62b-e7c781e5f47d"
      },
      "execution_count": null,
      "outputs": [
        {
          "output_type": "stream",
          "name": "stdout",
          "text": [
            "Test Accuracy: 0.7937062937062938\n"
          ]
        }
      ]
    },
    {
      "cell_type": "code",
      "source": [
        "precision = precision_score(y_true, y_pred)\n",
        "print(\"Test Precision:\", precision)"
      ],
      "metadata": {
        "colab": {
          "base_uri": "https://localhost:8080/"
        },
        "id": "B5sPQVhmnMBE",
        "outputId": "d9d7479a-66f6-496b-e8bb-3394ae9a5ad4"
      },
      "execution_count": null,
      "outputs": [
        {
          "output_type": "stream",
          "name": "stdout",
          "text": [
            "Test Precision: 0.7971014492753623\n"
          ]
        }
      ]
    },
    {
      "cell_type": "code",
      "source": [
        "recall = recall_score(y_true, y_pred)\n",
        "print(\"Test Recall:\", recall)"
      ],
      "metadata": {
        "colab": {
          "base_uri": "https://localhost:8080/"
        },
        "id": "pkqGk2BxnQG-",
        "outputId": "d08a24c1-adca-48dd-83f4-3f7eef0d0789"
      },
      "execution_count": null,
      "outputs": [
        {
          "output_type": "stream",
          "name": "stdout",
          "text": [
            "Test Recall: 0.55\n"
          ]
        }
      ]
    },
    {
      "cell_type": "code",
      "source": [
        "f1 = f1_score(y_true, y_pred)\n",
        "print(\"f1 score:\", f1)"
      ],
      "metadata": {
        "colab": {
          "base_uri": "https://localhost:8080/"
        },
        "id": "0XPJjVAOnTnl",
        "outputId": "69169117-0c8f-40ae-dc4f-57b125887982"
      },
      "execution_count": null,
      "outputs": [
        {
          "output_type": "stream",
          "name": "stdout",
          "text": [
            "f1 score: 0.650887573964497\n"
          ]
        }
      ]
    },
    {
      "cell_type": "code",
      "source": [],
      "metadata": {
        "id": "wHFffhixoQXv"
      },
      "execution_count": null,
      "outputs": []
    }
  ]
}